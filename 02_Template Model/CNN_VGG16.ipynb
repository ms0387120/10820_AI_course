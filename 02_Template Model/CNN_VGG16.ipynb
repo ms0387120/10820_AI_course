{
 "cells": [
  {
   "cell_type": "code",
   "execution_count": null,
   "metadata": {
    "colab": {
     "base_uri": "https://localhost:8080/",
     "height": 121
    },
    "colab_type": "code",
    "executionInfo": {
     "elapsed": 23292,
     "status": "ok",
     "timestamp": 1586088657662,
     "user": {
      "displayName": "廖柄淦",
      "photoUrl": "https://lh3.googleusercontent.com/a-/AOh14GjZP21bMdjnp7AGGchu-PjXO1U_qXi0fI574q6H=s64",
      "userId": "05650689681420335783"
     },
     "user_tz": -480
    },
    "id": "OoPGPE7NpPVk",
    "outputId": "bb470bcb-43b4-408c-addb-7e4c5a319c1c"
   },
   "outputs": [],
   "source": [
    "#Mount Google Drive\n",
    "from google.colab import drive\n",
    "drive.mount('/content/gdrive')"
   ]
  },
  {
   "cell_type": "code",
   "execution_count": null,
   "metadata": {
    "colab": {
     "base_uri": "https://localhost:8080/",
     "height": 101
    },
    "colab_type": "code",
    "executionInfo": {
     "elapsed": 6705,
     "status": "ok",
     "timestamp": 1586088665943,
     "user": {
      "displayName": "廖柄淦",
      "photoUrl": "https://lh3.googleusercontent.com/a-/AOh14GjZP21bMdjnp7AGGchu-PjXO1U_qXi0fI574q6H=s64",
      "userId": "05650689681420335783"
     },
     "user_tz": -480
    },
    "id": "6Fa0rZi3pQSK",
    "outputId": "d885a504-8b81-48e9-8c39-1e999741fe19"
   },
   "outputs": [],
   "source": [
    "#View the content of Google Drive\n",
    "!ls /content/gdrive/My\\ Drive/TA/1082"
   ]
  },
  {
   "cell_type": "code",
   "execution_count": 3,
   "metadata": {
    "colab": {
     "base_uri": "https://localhost:8080/",
     "height": 50
    },
    "colab_type": "code",
    "executionInfo": {
     "elapsed": 7607,
     "status": "ok",
     "timestamp": 1586088675150,
     "user": {
      "displayName": "廖柄淦",
      "photoUrl": "https://lh3.googleusercontent.com/a-/AOh14GjZP21bMdjnp7AGGchu-PjXO1U_qXi0fI574q6H=s64",
      "userId": "05650689681420335783"
     },
     "user_tz": -480
    },
    "id": "a7StK7inpNVk",
    "outputId": "38be0743-27c7-471a-8a1a-74a1bcb29bb1"
   },
   "outputs": [
    {
     "name": "stdout",
     "output_type": "stream",
     "text": [
      "TensorFlow 1.x selected.\n"
     ]
    },
    {
     "name": "stderr",
     "output_type": "stream",
     "text": [
      "Using TensorFlow backend.\n"
     ]
    }
   ],
   "source": [
    "#Import package\n",
    "%tensorflow_version 1.x\n",
    "from keras_preprocessing.image import load_img\n",
    "from keras_preprocessing.image import img_to_array\n",
    "from keras_preprocessing.image import ImageDataGenerator\n",
    "from keras.callbacks import EarlyStopping\n",
    "from keras.callbacks import ModelCheckpoint\n",
    "from keras.applications.vgg16 import VGG16\n",
    "from keras import layers\n",
    "from keras import models\n",
    "from keras import optimizers\n",
    "from sklearn.model_selection import train_test_split\n",
    "from sklearn.metrics import confusion_matrix\n",
    "from sklearn.metrics import classification_report\n",
    "import os\n",
    "import pandas as pd\n",
    "import numpy as np\n",
    "import matplotlib.pyplot as plt\n",
    "import csv"
   ]
  },
  {
   "cell_type": "markdown",
   "metadata": {
    "colab_type": "text",
    "id": "Fjo9cAe7pNVo"
   },
   "source": [
    "# **VGG16 model**"
   ]
  },
  {
   "cell_type": "code",
   "execution_count": 4,
   "metadata": {
    "colab": {
     "base_uri": "https://localhost:8080/",
     "height": 70
    },
    "colab_type": "code",
    "executionInfo": {
     "elapsed": 665,
     "status": "ok",
     "timestamp": 1586088677464,
     "user": {
      "displayName": "廖柄淦",
      "photoUrl": "https://lh3.googleusercontent.com/a-/AOh14GjZP21bMdjnp7AGGchu-PjXO1U_qXi0fI574q6H=s64",
      "userId": "05650689681420335783"
     },
     "user_tz": -480
    },
    "id": "-grLDzispNVp",
    "outputId": "8f3b6241-5399-4990-ad26-357f79ae6d49"
   },
   "outputs": [
    {
     "name": "stdout",
     "output_type": "stream",
     "text": [
      "WARNING:tensorflow:From /usr/local/lib/python3.6/dist-packages/keras/backend/tensorflow_backend.py:66: The name tf.get_default_graph is deprecated. Please use tf.compat.v1.get_default_graph instead.\n",
      "\n"
     ]
    }
   ],
   "source": [
    "model = models.Sequential()"
   ]
  },
  {
   "cell_type": "code",
   "execution_count": 5,
   "metadata": {
    "colab": {
     "base_uri": "https://localhost:8080/",
     "height": 373
    },
    "colab_type": "code",
    "executionInfo": {
     "elapsed": 16013,
     "status": "ok",
     "timestamp": 1586088707460,
     "user": {
      "displayName": "廖柄淦",
      "photoUrl": "https://lh3.googleusercontent.com/a-/AOh14GjZP21bMdjnp7AGGchu-PjXO1U_qXi0fI574q6H=s64",
      "userId": "05650689681420335783"
     },
     "user_tz": -480
    },
    "id": "yM-smMpzpNVr",
    "outputId": "a02b83d5-524a-43b8-9441-2eb3cadb07b2"
   },
   "outputs": [
    {
     "name": "stdout",
     "output_type": "stream",
     "text": [
      "WARNING:tensorflow:From /usr/local/lib/python3.6/dist-packages/keras/backend/tensorflow_backend.py:541: The name tf.placeholder is deprecated. Please use tf.compat.v1.placeholder instead.\n",
      "\n",
      "WARNING:tensorflow:From /usr/local/lib/python3.6/dist-packages/keras/backend/tensorflow_backend.py:4432: The name tf.random_uniform is deprecated. Please use tf.random.uniform instead.\n",
      "\n",
      "WARNING:tensorflow:From /usr/local/lib/python3.6/dist-packages/keras/backend/tensorflow_backend.py:4267: The name tf.nn.max_pool is deprecated. Please use tf.nn.max_pool2d instead.\n",
      "\n",
      "Downloading data from https://github.com/fchollet/deep-learning-models/releases/download/v0.1/vgg16_weights_tf_dim_ordering_tf_kernels_notop.h5\n",
      "58892288/58889256 [==============================] - 6s 0us/step\n",
      "WARNING:tensorflow:From /usr/local/lib/python3.6/dist-packages/keras/backend/tensorflow_backend.py:190: The name tf.get_default_session is deprecated. Please use tf.compat.v1.get_default_session instead.\n",
      "\n",
      "WARNING:tensorflow:From /usr/local/lib/python3.6/dist-packages/keras/backend/tensorflow_backend.py:197: The name tf.ConfigProto is deprecated. Please use tf.compat.v1.ConfigProto instead.\n",
      "\n",
      "WARNING:tensorflow:From /usr/local/lib/python3.6/dist-packages/keras/backend/tensorflow_backend.py:203: The name tf.Session is deprecated. Please use tf.compat.v1.Session instead.\n",
      "\n",
      "WARNING:tensorflow:From /usr/local/lib/python3.6/dist-packages/keras/backend/tensorflow_backend.py:207: The name tf.global_variables is deprecated. Please use tf.compat.v1.global_variables instead.\n",
      "\n",
      "WARNING:tensorflow:From /usr/local/lib/python3.6/dist-packages/keras/backend/tensorflow_backend.py:216: The name tf.is_variable_initialized is deprecated. Please use tf.compat.v1.is_variable_initialized instead.\n",
      "\n",
      "WARNING:tensorflow:From /usr/local/lib/python3.6/dist-packages/keras/backend/tensorflow_backend.py:223: The name tf.variables_initializer is deprecated. Please use tf.compat.v1.variables_initializer instead.\n",
      "\n"
     ]
    }
   ],
   "source": [
    "conv_base = VGG16(include_top=False, weights='imagenet', input_shape=(224, 224, 3))"
   ]
  },
  {
   "cell_type": "code",
   "execution_count": 7,
   "metadata": {
    "colab": {
     "base_uri": "https://localhost:8080/",
     "height": 286
    },
    "colab_type": "code",
    "executionInfo": {
     "elapsed": 1822,
     "status": "ok",
     "timestamp": 1586088742752,
     "user": {
      "displayName": "廖柄淦",
      "photoUrl": "https://lh3.googleusercontent.com/a-/AOh14GjZP21bMdjnp7AGGchu-PjXO1U_qXi0fI574q6H=s64",
      "userId": "05650689681420335783"
     },
     "user_tz": -480
    },
    "id": "V4WGI7xgpNVu",
    "outputId": "e746c7a9-98f4-4a35-e2cc-39598e0b1eb5"
   },
   "outputs": [
    {
     "name": "stdout",
     "output_type": "stream",
     "text": [
      "Model: \"sequential_1\"\n",
      "_________________________________________________________________\n",
      "Layer (type)                 Output Shape              Param #   \n",
      "=================================================================\n",
      "vgg16 (Model)                (None, 7, 7, 512)         14714688  \n",
      "_________________________________________________________________\n",
      "flatten_1 (Flatten)          (None, 25088)             0         \n",
      "_________________________________________________________________\n",
      "dense_1 (Dense)              (None, 128)               3211392   \n",
      "_________________________________________________________________\n",
      "dense_2 (Dense)              (None, 3)                 387       \n",
      "=================================================================\n",
      "Total params: 17,926,467\n",
      "Trainable params: 10,291,203\n",
      "Non-trainable params: 7,635,264\n",
      "_________________________________________________________________\n"
     ]
    }
   ],
   "source": [
    "#Freeze all layers\n",
    "for layer in conv_base.layers:\n",
    "    layer.trainable = False\n",
    "\n",
    "#Make some layer be trainable\n",
    "conv_base.get_layer('block5_conv1').trainable = True\n",
    "conv_base.get_layer('block5_conv2').trainable = True\n",
    "conv_base.get_layer('block5_conv3').trainable = True\n",
    "conv_base.get_layer('block5_pool').trainable = True\n",
    "\n",
    "model.add(conv_base)\n",
    "model.add(layers.Flatten())\n",
    "model.add(layers.Dense(128, activation='relu', kernel_initializer='he_uniform'))\n",
    "model.add(layers.Dense(3, activation='sigmoid'))\n",
    "\n",
    "model.summary()"
   ]
  },
  {
   "cell_type": "code",
   "execution_count": 8,
   "metadata": {
    "colab": {
     "base_uri": "https://localhost:8080/",
     "height": 154
    },
    "colab_type": "code",
    "executionInfo": {
     "elapsed": 1012,
     "status": "ok",
     "timestamp": 1586088748342,
     "user": {
      "displayName": "廖柄淦",
      "photoUrl": "https://lh3.googleusercontent.com/a-/AOh14GjZP21bMdjnp7AGGchu-PjXO1U_qXi0fI574q6H=s64",
      "userId": "05650689681420335783"
     },
     "user_tz": -480
    },
    "id": "KCoceTNepNVw",
    "outputId": "fdf43aa3-6cb6-4a1d-86d2-716496117118"
   },
   "outputs": [
    {
     "name": "stdout",
     "output_type": "stream",
     "text": [
      "WARNING:tensorflow:From /usr/local/lib/python3.6/dist-packages/keras/optimizers.py:793: The name tf.train.Optimizer is deprecated. Please use tf.compat.v1.train.Optimizer instead.\n",
      "\n",
      "WARNING:tensorflow:From /usr/local/lib/python3.6/dist-packages/keras/backend/tensorflow_backend.py:3657: The name tf.log is deprecated. Please use tf.math.log instead.\n",
      "\n",
      "WARNING:tensorflow:From /tensorflow-1.15.2/python3.6/tensorflow_core/python/ops/nn_impl.py:183: where (from tensorflow.python.ops.array_ops) is deprecated and will be removed in a future version.\n",
      "Instructions for updating:\n",
      "Use tf.where in 2.0, which has the same broadcast rule as np.where\n"
     ]
    }
   ],
   "source": [
    "opt = optimizers.SGD(lr=0.01, momentum=0.9)\n",
    "model.compile(optimizer=opt, loss='binary_crossentropy', metrics=['acc'])"
   ]
  },
  {
   "cell_type": "markdown",
   "metadata": {
    "colab_type": "text",
    "id": "eYZdT5BLpNVy"
   },
   "source": [
    "# **Prepare dataset**"
   ]
  },
  {
   "cell_type": "code",
   "execution_count": 9,
   "metadata": {
    "colab": {
     "base_uri": "https://localhost:8080/",
     "height": 34
    },
    "colab_type": "code",
    "executionInfo": {
     "elapsed": 22156,
     "status": "ok",
     "timestamp": 1586088773218,
     "user": {
      "displayName": "廖柄淦",
      "photoUrl": "https://lh3.googleusercontent.com/a-/AOh14GjZP21bMdjnp7AGGchu-PjXO1U_qXi0fI574q6H=s64",
      "userId": "05650689681420335783"
     },
     "user_tz": -480
    },
    "id": "xe-5FXJVpNVz",
    "outputId": "59143aae-9c95-4742-a296-fb759e2c7739"
   },
   "outputs": [
    {
     "name": "stdout",
     "output_type": "stream",
     "text": [
      "Loaded shape:  (5600, 224, 224, 3) (5600, 3)\n"
     ]
    }
   ],
   "source": [
    "data = np.load('/content/gdrive/My Drive/TA/1082/mango_train_planet_data.npz')\n",
    "X, Y = data['arr_0'], data['arr_1']\n",
    "print('Loaded shape: ', X.shape, Y.shape)"
   ]
  },
  {
   "cell_type": "code",
   "execution_count": 10,
   "metadata": {
    "colab": {
     "base_uri": "https://localhost:8080/",
     "height": 34
    },
    "colab_type": "code",
    "executionInfo": {
     "elapsed": 2906,
     "status": "ok",
     "timestamp": 1586088777221,
     "user": {
      "displayName": "廖柄淦",
      "photoUrl": "https://lh3.googleusercontent.com/a-/AOh14GjZP21bMdjnp7AGGchu-PjXO1U_qXi0fI574q6H=s64",
      "userId": "05650689681420335783"
     },
     "user_tz": -480
    },
    "id": "ktKsDyizpNV1",
    "outputId": "44e2e3a7-eedc-4b96-8a0f-7bb3b7bf3ed8"
   },
   "outputs": [
    {
     "name": "stdout",
     "output_type": "stream",
     "text": [
      "(4480, 224, 224, 3) (4480, 3) (1120, 224, 224, 3) (1120, 3)\n"
     ]
    }
   ],
   "source": [
    "trainX, testX, trainY, testY = train_test_split(X, Y, test_size=0.2, random_state=1)\n",
    "print(trainX.shape, trainY.shape, testX.shape, testY.shape)"
   ]
  },
  {
   "cell_type": "code",
   "execution_count": 0,
   "metadata": {
    "colab": {},
    "colab_type": "code",
    "id": "VnmsK8tspNV4"
   },
   "outputs": [],
   "source": [
    "train_datagen = ImageDataGenerator(rescale=1.0/255.0, rotation_range=15, featurewise_center=True, horizontal_flip=True)\n",
    "train_datagen.mean = [0.485, 0.456, 0.406]\n",
    "\n",
    "test_datagen = ImageDataGenerator(rescale=1.0/255.0, featurewise_center=True)\n",
    "test_datagen.mean = [0.485, 0.456, 0.406]\n",
    "\n",
    "train_it = train_datagen.flow(trainX, trainY, batch_size=128)\n",
    "test_it = test_datagen.flow(testX, testY, batch_size=128)"
   ]
  },
  {
   "cell_type": "markdown",
   "metadata": {
    "colab_type": "text",
    "id": "rvURJaNbpNV6"
   },
   "source": [
    "# **Train model**"
   ]
  },
  {
   "cell_type": "code",
   "execution_count": 0,
   "metadata": {
    "colab": {},
    "colab_type": "code",
    "id": "u2EcwNz4pNV7"
   },
   "outputs": [],
   "source": [
    "early_stopping = EarlyStopping(monitor='val_loss', patience=10, verbose=1)\n",
    "checkpoint = ModelCheckpoint('/content/gdrive/My Drive/TA/1082/TestCNN2_weights.h5', monitor='val_loss', verbose=1, save_best_only=True, save_weights_only=True, period=1)"
   ]
  },
  {
   "cell_type": "code",
   "execution_count": 13,
   "metadata": {
    "colab": {
     "base_uri": "https://localhost:8080/",
     "height": 1000
    },
    "colab_type": "code",
    "executionInfo": {
     "elapsed": 859550,
     "status": "ok",
     "timestamp": 1586089668548,
     "user": {
      "displayName": "廖柄淦",
      "photoUrl": "https://lh3.googleusercontent.com/a-/AOh14GjZP21bMdjnp7AGGchu-PjXO1U_qXi0fI574q6H=s64",
      "userId": "05650689681420335783"
     },
     "user_tz": -480
    },
    "id": "dKdlNLespNV9",
    "outputId": "e92b0796-e8eb-4ce0-ee53-2bb708be43b9"
   },
   "outputs": [
    {
     "name": "stdout",
     "output_type": "stream",
     "text": [
      "WARNING:tensorflow:From /usr/local/lib/python3.6/dist-packages/keras/backend/tensorflow_backend.py:1033: The name tf.assign_add is deprecated. Please use tf.compat.v1.assign_add instead.\n",
      "\n",
      "WARNING:tensorflow:From /usr/local/lib/python3.6/dist-packages/keras/backend/tensorflow_backend.py:1020: The name tf.assign is deprecated. Please use tf.compat.v1.assign instead.\n",
      "\n",
      "Epoch 1/100\n",
      "35/35 [==============================] - 70s 2s/step - loss: 0.5606 - acc: 0.6997 - val_loss: 0.4515 - val_acc: 0.7473\n",
      "\n",
      "Epoch 00001: val_loss improved from inf to 0.45146, saving model to /content/gdrive/My Drive/TA/1082/TestCNN2_weights.h5\n",
      "Epoch 2/100\n",
      "35/35 [==============================] - 49s 1s/step - loss: 0.4578 - acc: 0.7661 - val_loss: 0.4427 - val_acc: 0.7661\n",
      "\n",
      "Epoch 00002: val_loss improved from 0.45146 to 0.44268, saving model to /content/gdrive/My Drive/TA/1082/TestCNN2_weights.h5\n",
      "Epoch 3/100\n",
      "35/35 [==============================] - 52s 1s/step - loss: 0.4345 - acc: 0.7844 - val_loss: 0.3923 - val_acc: 0.8128\n",
      "\n",
      "Epoch 00003: val_loss improved from 0.44268 to 0.39234, saving model to /content/gdrive/My Drive/TA/1082/TestCNN2_weights.h5\n",
      "Epoch 4/100\n",
      "35/35 [==============================] - 53s 2s/step - loss: 0.3873 - acc: 0.8147 - val_loss: 0.4927 - val_acc: 0.7551\n",
      "\n",
      "Epoch 00004: val_loss did not improve from 0.39234\n",
      "Epoch 5/100\n",
      "35/35 [==============================] - 52s 1s/step - loss: 0.3989 - acc: 0.8093 - val_loss: 0.4473 - val_acc: 0.7774\n",
      "\n",
      "Epoch 00005: val_loss did not improve from 0.39234\n",
      "Epoch 6/100\n",
      "35/35 [==============================] - 52s 1s/step - loss: 0.3701 - acc: 0.8231 - val_loss: 0.3787 - val_acc: 0.8205\n",
      "\n",
      "Epoch 00006: val_loss improved from 0.39234 to 0.37867, saving model to /content/gdrive/My Drive/TA/1082/TestCNN2_weights.h5\n",
      "Epoch 7/100\n",
      "35/35 [==============================] - 52s 1s/step - loss: 0.3428 - acc: 0.8423 - val_loss: 0.3819 - val_acc: 0.8196\n",
      "\n",
      "Epoch 00007: val_loss did not improve from 0.37867\n",
      "Epoch 8/100\n",
      "35/35 [==============================] - 53s 2s/step - loss: 0.3385 - acc: 0.8455 - val_loss: 0.3928 - val_acc: 0.8077\n",
      "\n",
      "Epoch 00008: val_loss did not improve from 0.37867\n",
      "Epoch 9/100\n",
      "35/35 [==============================] - 53s 2s/step - loss: 0.3254 - acc: 0.8516 - val_loss: 0.3860 - val_acc: 0.8217\n",
      "\n",
      "Epoch 00009: val_loss did not improve from 0.37867\n",
      "Epoch 10/100\n",
      "35/35 [==============================] - 52s 1s/step - loss: 0.3157 - acc: 0.8574 - val_loss: 0.4348 - val_acc: 0.7985\n",
      "\n",
      "Epoch 00010: val_loss did not improve from 0.37867\n",
      "Epoch 11/100\n",
      "35/35 [==============================] - 52s 1s/step - loss: 0.3181 - acc: 0.8577 - val_loss: 0.4277 - val_acc: 0.8015\n",
      "\n",
      "Epoch 00011: val_loss did not improve from 0.37867\n",
      "Epoch 12/100\n",
      "35/35 [==============================] - 52s 1s/step - loss: 0.2864 - acc: 0.8718 - val_loss: 0.4141 - val_acc: 0.8134\n",
      "\n",
      "Epoch 00012: val_loss did not improve from 0.37867\n",
      "Epoch 13/100\n",
      "35/35 [==============================] - 52s 1s/step - loss: 0.2785 - acc: 0.8743 - val_loss: 0.3837 - val_acc: 0.8229\n",
      "\n",
      "Epoch 00013: val_loss did not improve from 0.37867\n",
      "Epoch 14/100\n",
      "35/35 [==============================] - 52s 1s/step - loss: 0.2515 - acc: 0.8911 - val_loss: 0.4117 - val_acc: 0.8277\n",
      "\n",
      "Epoch 00014: val_loss did not improve from 0.37867\n",
      "Epoch 15/100\n",
      "35/35 [==============================] - 52s 1s/step - loss: 0.2487 - acc: 0.8912 - val_loss: 0.4251 - val_acc: 0.8161\n",
      "\n",
      "Epoch 00015: val_loss did not improve from 0.37867\n",
      "Epoch 16/100\n",
      "35/35 [==============================] - 53s 2s/step - loss: 0.2394 - acc: 0.8995 - val_loss: 0.4079 - val_acc: 0.8214\n",
      "\n",
      "Epoch 00016: val_loss did not improve from 0.37867\n",
      "Epoch 00016: early stopping\n"
     ]
    }
   ],
   "source": [
    "history = model.fit_generator(train_it, steps_per_epoch=len(train_it), epochs=100, validation_data=test_it, validation_steps=len(test_it), callbacks=[checkpoint, early_stopping])"
   ]
  },
  {
   "cell_type": "markdown",
   "metadata": {
    "colab_type": "text",
    "id": "rT8bauxfpNV_"
   },
   "source": [
    "# **Save and draw**"
   ]
  },
  {
   "cell_type": "code",
   "execution_count": 0,
   "metadata": {
    "colab": {},
    "colab_type": "code",
    "id": "TZiblLY-pNV_"
   },
   "outputs": [],
   "source": [
    "model.save('/content/gdrive/My Drive/TA/1082/TestCNN2.h5')"
   ]
  },
  {
   "cell_type": "code",
   "execution_count": 15,
   "metadata": {
    "colab": {
     "base_uri": "https://localhost:8080/",
     "height": 545
    },
    "colab_type": "code",
    "executionInfo": {
     "elapsed": 2870,
     "status": "ok",
     "timestamp": 1586089685264,
     "user": {
      "displayName": "廖柄淦",
      "photoUrl": "https://lh3.googleusercontent.com/a-/AOh14GjZP21bMdjnp7AGGchu-PjXO1U_qXi0fI574q6H=s64",
      "userId": "05650689681420335783"
     },
     "user_tz": -480
    },
    "id": "Ul3bsIkopNWC",
    "outputId": "9779a3c1-69a0-4950-b71d-268ad99a20af"
   },
   "outputs": [
    {
     "data": {
      "image/png": "[encoded data removed]",
      "text/plain": [
       "<Figure size 432x288 with 1 Axes>"
      ]
     },
     "metadata": {
      "tags": []
     },
     "output_type": "display_data"
    },
    {
     "data": {
      "image/png": "[encoded data removed]",
      "text/plain": [
       "<Figure size 432x288 with 1 Axes>"
      ]
     },
     "metadata": {
      "tags": []
     },
     "output_type": "display_data"
    }
   ],
   "source": [
    "train_acc = history.history['acc']\n",
    "val_acc = history.history['val_acc']\n",
    "train_loss = history.history['loss']\n",
    "val_loss = history.history['val_loss']\n",
    "epochs = range(1, len(train_acc) + 1)\n",
    "\n",
    "plt.plot(epochs, train_acc, 'b', label='Training acc')\n",
    "plt.plot(epochs, val_acc, 'r', label='Validation acc')\n",
    "plt.title('Training and validation accuracy')\n",
    "plt.legend()\n",
    "plt.savefig('/content/gdrive/My Drive/TA/1082/VGG16-accuracy.png')\n",
    "\n",
    "plt.figure()\n",
    "\n",
    "plt.plot(epochs, train_loss, 'b', label='Training loss')\n",
    "plt.plot(epochs, val_loss, 'r', label='Validation loss')\n",
    "plt.title('Training and validation loss')\n",
    "plt.legend()\n",
    "plt.savefig('/content/gdrive/My Drive/TA/1082/VGG16-loss.png')\n",
    "\n",
    "plt.show()"
   ]
  },
  {
   "cell_type": "markdown",
   "metadata": {
    "colab_type": "text",
    "id": "RVhjn0Ch3iIL"
   },
   "source": [
    "# **Evaluate and predict**"
   ]
  },
  {
   "cell_type": "code",
   "execution_count": 16,
   "metadata": {
    "colab": {
     "base_uri": "https://localhost:8080/",
     "height": 34
    },
    "colab_type": "code",
    "executionInfo": {
     "elapsed": 6329,
     "status": "ok",
     "timestamp": 1586089697854,
     "user": {
      "displayName": "廖柄淦",
      "photoUrl": "https://lh3.googleusercontent.com/a-/AOh14GjZP21bMdjnp7AGGchu-PjXO1U_qXi0fI574q6H=s64",
      "userId": "05650689681420335783"
     },
     "user_tz": -480
    },
    "id": "0X3wPP5D3f3l",
    "outputId": "0d870d9e-f583-40a7-dbb7-4952eb22c33d"
   },
   "outputs": [
    {
     "name": "stdout",
     "output_type": "stream",
     "text": [
      "Loaded shape:  (800, 224, 224, 3) (800, 3)\n"
     ]
    }
   ],
   "source": [
    "#Load dev dataset\n",
    "data = np.load('/content/gdrive/My Drive/TA/1082/mango_dev_planet_data.npz')\n",
    "X, Y = data['arr_0'], data['arr_1']\n",
    "print('Loaded shape: ', X.shape, Y.shape)"
   ]
  },
  {
   "cell_type": "code",
   "execution_count": 0,
   "metadata": {
    "colab": {},
    "colab_type": "code",
    "id": "zWl7i5Th35Eg"
   },
   "outputs": [],
   "source": [
    "#Load model\n",
    "model = models.load_model('/content/gdrive/My Drive/TA/1082/TestCNN2.h5')"
   ]
  },
  {
   "cell_type": "code",
   "execution_count": 0,
   "metadata": {
    "colab": {},
    "colab_type": "code",
    "id": "_7TTTZZ935MD"
   },
   "outputs": [],
   "source": [
    "#Load model weights\n",
    "model.load_weights('/content/gdrive/My Drive/TA/1082/TestCNN2_weights.h5')"
   ]
  },
  {
   "cell_type": "code",
   "execution_count": 19,
   "metadata": {
    "colab": {
     "base_uri": "https://localhost:8080/",
     "height": 1000
    },
    "colab_type": "code",
    "executionInfo": {
     "elapsed": 1228,
     "status": "ok",
     "timestamp": 1586089770423,
     "user": {
      "displayName": "廖柄淦",
      "photoUrl": "https://lh3.googleusercontent.com/a-/AOh14GjZP21bMdjnp7AGGchu-PjXO1U_qXi0fI574q6H=s64",
      "userId": "05650689681420335783"
     },
     "user_tz": -480
    },
    "id": "p-vKlGv34F6b",
    "outputId": "f8a31f93-d783-4647-fd04-8906a8ff64e4"
   },
   "outputs": [
    {
     "name": "stdout",
     "output_type": "stream",
     "text": [
      "[[[[0.34509805 0.3647059  0.3764706 ]\n",
      "   [0.3254902  0.34509805 0.35686275]\n",
      "   [0.32941177 0.34901962 0.36078432]\n",
      "   ...\n",
      "   [0.38039216 0.3137255  0.09411765]\n",
      "   [0.3882353  0.32156864 0.10196079]\n",
      "   [0.38431373 0.31764707 0.09803922]]\n",
      "\n",
      "  [[0.34117648 0.36078432 0.37254903]\n",
      "   [0.3254902  0.34509805 0.35686275]\n",
      "   [0.33333334 0.3529412  0.3647059 ]\n",
      "   ...\n",
      "   [0.4        0.30980393 0.09803922]\n",
      "   [0.40784314 0.31764707 0.10588235]\n",
      "   [0.39607844 0.30588236 0.09411765]]\n",
      "\n",
      "  [[0.32156864 0.3529412  0.36078432]\n",
      "   [0.31764707 0.34901962 0.35686275]\n",
      "   [0.29411766 0.3254902  0.33333334]\n",
      "   ...\n",
      "   [0.44705883 0.36078432 0.13333334]\n",
      "   [0.43529412 0.34901962 0.12156863]\n",
      "   [0.4117647  0.3254902  0.09803922]]\n",
      "\n",
      "  ...\n",
      "\n",
      "  [[0.56078434 0.5411765  0.5294118 ]\n",
      "   [0.5686275  0.54901963 0.5372549 ]\n",
      "   [0.5764706  0.5568628  0.54509807]\n",
      "   ...\n",
      "   [0.5529412  0.654902   0.65882355]\n",
      "   [0.5294118  0.6313726  0.63529414]\n",
      "   [0.50980395 0.6117647  0.6156863 ]]\n",
      "\n",
      "  [[0.57254905 0.5372549  0.5176471 ]\n",
      "   [0.5921569  0.5529412  0.54509807]\n",
      "   [0.62352943 0.58431375 0.5882353 ]\n",
      "   ...\n",
      "   [0.50980395 0.6117647  0.6156863 ]\n",
      "   [0.49019608 0.5921569  0.59607846]\n",
      "   [0.4745098  0.5764706  0.5803922 ]]\n",
      "\n",
      "  [[0.5568628  0.52156866 0.4862745 ]\n",
      "   [0.56078434 0.5254902  0.49803922]\n",
      "   [0.5921569  0.5529412  0.54509807]\n",
      "   ...\n",
      "   [0.5019608  0.58431375 0.59607846]\n",
      "   [0.48235294 0.5647059  0.5764706 ]\n",
      "   [0.4745098  0.5568628  0.5686275 ]]]\n",
      "\n",
      "\n",
      " [[[0.45490196 0.33333334 0.45882353]\n",
      "   [0.49411765 0.37254903 0.49411765]\n",
      "   [0.5019608  0.37254903 0.4862745 ]\n",
      "   ...\n",
      "   [0.00784314 0.00784314 0.00784314]\n",
      "   [0.00784314 0.00784314 0.00784314]\n",
      "   [0.00784314 0.00784314 0.00784314]]\n",
      "\n",
      "  [[0.4117647  0.32156864 0.43529412]\n",
      "   [0.61960787 0.5176471  0.6313726 ]\n",
      "   [0.4862745  0.36862746 0.47843137]\n",
      "   ...\n",
      "   [0.00784314 0.00784314 0.00784314]\n",
      "   [0.00784314 0.00784314 0.00784314]\n",
      "   [0.00784314 0.00784314 0.00784314]]\n",
      "\n",
      "  [[0.4392157  0.36078432 0.47058824]\n",
      "   [0.54901963 0.42745098 0.54901963]\n",
      "   [0.50980395 0.35686275 0.47843137]\n",
      "   ...\n",
      "   [0.00784314 0.00784314 0.00784314]\n",
      "   [0.00784314 0.00784314 0.00784314]\n",
      "   [0.00784314 0.00784314 0.00784314]]\n",
      "\n",
      "  ...\n",
      "\n",
      "  [[0.10980392 0.10588235 0.13725491]\n",
      "   [0.11372549 0.10980392 0.13333334]\n",
      "   [0.07450981 0.07058824 0.09019608]\n",
      "   ...\n",
      "   [0.6039216  0.5019608  0.54509807]\n",
      "   [0.6039216  0.5019608  0.54509807]\n",
      "   [0.60784316 0.5058824  0.54901963]]\n",
      "\n",
      "  [[0.10196079 0.09803922 0.12156863]\n",
      "   [0.01960784 0.01960784 0.02745098]\n",
      "   [0.         0.         0.        ]\n",
      "   ...\n",
      "   [0.6117647  0.50980395 0.5529412 ]\n",
      "   [0.6117647  0.50980395 0.5529412 ]\n",
      "   [0.60784316 0.5058824  0.54901963]]\n",
      "\n",
      "  [[0.         0.         0.01568628]\n",
      "   [0.         0.         0.00784314]\n",
      "   [0.00392157 0.00392157 0.        ]\n",
      "   ...\n",
      "   [0.61960787 0.5176471  0.56078434]\n",
      "   [0.61960787 0.5176471  0.56078434]\n",
      "   [0.6156863  0.5137255  0.5568628 ]]]\n",
      "\n",
      "\n",
      " [[[0.6509804  0.6392157  0.5803922 ]\n",
      "   [0.65882355 0.64705884 0.5882353 ]\n",
      "   [0.6509804  0.6392157  0.5803922 ]\n",
      "   ...\n",
      "   [0.7411765  0.73333335 0.68235296]\n",
      "   [0.73333335 0.7254902  0.6745098 ]\n",
      "   [0.7372549  0.7294118  0.6784314 ]]\n",
      "\n",
      "  [[0.65882355 0.64705884 0.5882353 ]\n",
      "   [0.654902   0.6431373  0.58431375]\n",
      "   [0.63529414 0.62352943 0.5647059 ]\n",
      "   ...\n",
      "   [0.74509805 0.7372549  0.6862745 ]\n",
      "   [0.73333335 0.7254902  0.6745098 ]\n",
      "   [0.7490196  0.7411765  0.6901961 ]]\n",
      "\n",
      "  [[0.654902   0.6431373  0.58431375]\n",
      "   [0.6509804  0.6392157  0.5803922 ]\n",
      "   [0.63529414 0.62352943 0.5647059 ]\n",
      "   ...\n",
      "   [0.73333335 0.7254902  0.6745098 ]\n",
      "   [0.7490196  0.7411765  0.6901961 ]\n",
      "   [0.7411765  0.73333335 0.68235296]]\n",
      "\n",
      "  ...\n",
      "\n",
      "  [[0.13333334 0.5137255  0.83137256]\n",
      "   [0.11372549 0.5019608  0.81960785]\n",
      "   [0.07450981 0.47843137 0.7882353 ]\n",
      "   ...\n",
      "   [0.79607844 0.5764706  0.5254902 ]\n",
      "   [0.7764706  0.5568628  0.5058824 ]\n",
      "   [0.7647059  0.54509807 0.49411765]]\n",
      "\n",
      "  [[0.10980392 0.49019608 0.80784315]\n",
      "   [0.10196079 0.49019608 0.80784315]\n",
      "   [0.07058824 0.4745098  0.78431374]\n",
      "   ...\n",
      "   [0.7607843  0.5411765  0.49019608]\n",
      "   [0.7411765  0.52156866 0.47058824]\n",
      "   [0.7411765  0.52156866 0.47058824]]\n",
      "\n",
      "  [[0.09019608 0.47058824 0.7882353 ]\n",
      "   [0.08235294 0.47058824 0.7882353 ]\n",
      "   [0.09411765 0.49803922 0.80784315]\n",
      "   ...\n",
      "   [0.7647059  0.54509807 0.49411765]\n",
      "   [0.7372549  0.5176471  0.46666667]\n",
      "   [0.7019608  0.48235294 0.43137255]]]\n",
      "\n",
      "\n",
      " ...\n",
      "\n",
      "\n",
      " [[[0.5568628  0.5764706  0.56078434]\n",
      "   [0.5764706  0.5921569  0.5882353 ]\n",
      "   [0.5921569  0.60784316 0.61960787]\n",
      "   ...\n",
      "   [0.58431375 0.5882353  0.6039216 ]\n",
      "   [0.5882353  0.5921569  0.60784316]\n",
      "   [0.57254905 0.5764706  0.5921569 ]]\n",
      "\n",
      "  [[0.5764706  0.59607846 0.5803922 ]\n",
      "   [0.58431375 0.6        0.59607846]\n",
      "   [0.5921569  0.60784316 0.61960787]\n",
      "   ...\n",
      "   [0.58431375 0.5882353  0.6039216 ]\n",
      "   [0.5803922  0.58431375 0.6       ]\n",
      "   [0.5647059  0.5686275  0.58431375]]\n",
      "\n",
      "  [[0.5803922  0.6156863  0.59607846]\n",
      "   [0.5882353  0.62352943 0.6117647 ]\n",
      "   [0.5882353  0.61960787 0.627451  ]\n",
      "   ...\n",
      "   [0.5921569  0.59607846 0.6117647 ]\n",
      "   [0.5764706  0.5803922  0.59607846]\n",
      "   [0.56078434 0.5647059  0.5803922 ]]\n",
      "\n",
      "  ...\n",
      "\n",
      "  [[0.654902   0.2627451  0.4745098 ]\n",
      "   [0.6392157  0.24313726 0.47058824]\n",
      "   [0.6431373  0.24705882 0.48235294]\n",
      "   ...\n",
      "   [0.14117648 0.07843138 0.07843138]\n",
      "   [0.14117648 0.07843138 0.07843138]\n",
      "   [0.14901961 0.08627451 0.08627451]]\n",
      "\n",
      "  [[0.64705884 0.24313726 0.45882353]\n",
      "   [0.6666667  0.25882354 0.49019608]\n",
      "   [0.654902   0.24705882 0.4862745 ]\n",
      "   ...\n",
      "   [0.14509805 0.08235294 0.08235294]\n",
      "   [0.13333334 0.07058824 0.07058824]\n",
      "   [0.14509805 0.08235294 0.08235294]]\n",
      "\n",
      "  [[0.6039216  0.19215687 0.4117647 ]\n",
      "   [0.6509804  0.23921569 0.47058824]\n",
      "   [0.6666667  0.2509804  0.49411765]\n",
      "   ...\n",
      "   [0.14117648 0.07843138 0.07843138]\n",
      "   [0.14901961 0.08627451 0.08627451]\n",
      "   [0.14117648 0.07843138 0.07843138]]]\n",
      "\n",
      "\n",
      " [[[0.60784316 0.5882353  0.5647059 ]\n",
      "   [0.5686275  0.54901963 0.5254902 ]\n",
      "   [0.52156866 0.5019608  0.47843137]\n",
      "   ...\n",
      "   [0.69411767 0.24313726 0.27058825]\n",
      "   [0.72156864 0.26666668 0.2784314 ]\n",
      "   [0.7529412  0.28235295 0.2901961 ]]\n",
      "\n",
      "  [[0.6117647  0.5921569  0.5686275 ]\n",
      "   [0.5568628  0.5372549  0.5137255 ]\n",
      "   [0.49803922 0.47843137 0.45490196]\n",
      "   ...\n",
      "   [0.6901961  0.23921569 0.25882354]\n",
      "   [0.73333335 0.2784314  0.28235295]\n",
      "   [0.75686276 0.28627452 0.2901961 ]]\n",
      "\n",
      "  [[0.6        0.5803922  0.5568628 ]\n",
      "   [0.5411765  0.52156866 0.49803922]\n",
      "   [0.49411765 0.4745098  0.4509804 ]\n",
      "   ...\n",
      "   [0.7019608  0.2509804  0.2627451 ]\n",
      "   [0.7294118  0.27450982 0.27450982]\n",
      "   [0.7647059  0.29411766 0.2901961 ]]\n",
      "\n",
      "  ...\n",
      "\n",
      "  [[0.5921569  0.5921569  0.56078434]\n",
      "   [0.59607846 0.5921569  0.5764706 ]\n",
      "   [0.61960787 0.6156863  0.60784316]\n",
      "   ...\n",
      "   [0.8627451  0.627451   0.58431375]\n",
      "   [0.8745098  0.64705884 0.6       ]\n",
      "   [0.8666667  0.65882355 0.6039216 ]]\n",
      "\n",
      "  [[0.5686275  0.5686275  0.5372549 ]\n",
      "   [0.59607846 0.5921569  0.5764706 ]\n",
      "   [0.61960787 0.6156863  0.60784316]\n",
      "   ...\n",
      "   [0.85882354 0.62352943 0.5803922 ]\n",
      "   [0.8666667  0.6392157  0.5921569 ]\n",
      "   [0.8627451  0.654902   0.6       ]]\n",
      "\n",
      "  [[0.5568628  0.5568628  0.5254902 ]\n",
      "   [0.58431375 0.5803922  0.5647059 ]\n",
      "   [0.60784316 0.6039216  0.59607846]\n",
      "   ...\n",
      "   [0.8509804  0.6156863  0.57254905]\n",
      "   [0.8627451  0.63529414 0.5882353 ]\n",
      "   [0.8627451  0.654902   0.6       ]]]\n",
      "\n",
      "\n",
      " [[[0.78039217 0.7058824  0.6901961 ]\n",
      "   [0.8        0.72156864 0.7294118 ]\n",
      "   [0.8235294  0.74509805 0.7529412 ]\n",
      "   ...\n",
      "   [0.4862745  0.5254902  0.49019608]\n",
      "   [0.4745098  0.5137255  0.48235294]\n",
      "   [0.47058824 0.50980395 0.47843137]]\n",
      "\n",
      "  [[0.78431374 0.70980394 0.69411767]\n",
      "   [0.83137256 0.7529412  0.7607843 ]\n",
      "   [0.8117647  0.73333335 0.7411765 ]\n",
      "   ...\n",
      "   [0.4862745  0.5254902  0.49019608]\n",
      "   [0.4745098  0.5137255  0.48235294]\n",
      "   [0.45882353 0.49803922 0.46666667]]\n",
      "\n",
      "  [[0.80784315 0.73333335 0.7176471 ]\n",
      "   [0.8117647  0.73333335 0.7411765 ]\n",
      "   [0.80784315 0.7294118  0.7372549 ]\n",
      "   ...\n",
      "   [0.50980395 0.54901963 0.5137255 ]\n",
      "   [0.48235294 0.52156866 0.49019608]\n",
      "   [0.46666667 0.5058824  0.4745098 ]]\n",
      "\n",
      "  ...\n",
      "\n",
      "  [[0.64705884 0.74509805 0.7607843 ]\n",
      "   [0.6627451  0.7372549  0.7607843 ]\n",
      "   [0.6431373  0.7176471  0.73333335]\n",
      "   ...\n",
      "   [0.5372549  0.5647059  0.53333336]\n",
      "   [0.5294118  0.5686275  0.5372549 ]\n",
      "   [0.5294118  0.5686275  0.5372549 ]]\n",
      "\n",
      "  [[0.64705884 0.74509805 0.7607843 ]\n",
      "   [0.6627451  0.7372549  0.7607843 ]\n",
      "   [0.64705884 0.72156864 0.7372549 ]\n",
      "   ...\n",
      "   [0.5254902  0.5529412  0.52156866]\n",
      "   [0.5254902  0.5647059  0.53333336]\n",
      "   [0.5294118  0.5686275  0.5372549 ]]\n",
      "\n",
      "  [[0.6509804  0.7490196  0.7647059 ]\n",
      "   [0.6627451  0.7372549  0.7607843 ]\n",
      "   [0.64705884 0.72156864 0.7372549 ]\n",
      "   ...\n",
      "   [0.53333336 0.56078434 0.5294118 ]\n",
      "   [0.5254902  0.5647059  0.53333336]\n",
      "   [0.52156866 0.56078434 0.5294118 ]]]]\n"
     ]
    }
   ],
   "source": [
    "#Rescale dev dataset\n",
    "X/=255.0\n",
    "print(X)"
   ]
  },
  {
   "cell_type": "code",
   "execution_count": 20,
   "metadata": {
    "colab": {
     "base_uri": "https://localhost:8080/",
     "height": 50
    },
    "colab_type": "code",
    "executionInfo": {
     "elapsed": 8633,
     "status": "ok",
     "timestamp": 1586089789890,
     "user": {
      "displayName": "廖柄淦",
      "photoUrl": "https://lh3.googleusercontent.com/a-/AOh14GjZP21bMdjnp7AGGchu-PjXO1U_qXi0fI574q6H=s64",
      "userId": "05650689681420335783"
     },
     "user_tz": -480
    },
    "id": "iPS2HkmQpNWE",
    "outputId": "fa8f8f23-78a0-4088-ee31-1d9540d16301"
   },
   "outputs": [
    {
     "name": "stdout",
     "output_type": "stream",
     "text": [
      "800/800 [==============================] - 7s 9ms/step\n",
      "Loss = 0.41068, Acc = 0.80750\n"
     ]
    }
   ],
   "source": [
    "#Evaluate\n",
    "loss, acc = model.evaluate(X, Y)\n",
    "print('Loss = %.5f, Acc = %.5f' % (loss, acc))"
   ]
  },
  {
   "cell_type": "code",
   "execution_count": 0,
   "metadata": {
    "colab": {
     "base_uri": "https://localhost:8080/",
     "height": 403
    },
    "colab_type": "code",
    "executionInfo": {
     "elapsed": 2728,
     "status": "ok",
     "timestamp": 1585972968860,
     "user": {
      "displayName": "廖柄淦",
      "photoUrl": "https://lh3.googleusercontent.com/a-/AOh14GjZP21bMdjnp7AGGchu-PjXO1U_qXi0fI574q6H=s64",
      "userId": "05650689681420335783"
     },
     "user_tz": -480
    },
    "id": "WjKXeWrk4GH1",
    "outputId": "464f2f25-c342-411e-dce8-9915e6816cac"
   },
   "outputs": [
    {
     "name": "stdout",
     "output_type": "stream",
     "text": [
      "800\n",
      "[1 0 1 1 2 1 2 0 0 0 0 1 2 1 1 1 1 0 0 1 1 0 2 0 1 0 2 2 0 1 0 0 1 2 0 0 0\n",
      " 0 0 0 0 1 0 1 2 2 1 0 2 0 1 1 1 1 1 0 1 1 2 0 0 0 2 0 0 2 1 0 2 1 2 1 1 2\n",
      " 2 1 0 1 2 0 0 2 1 1 2 2 2 1 1 1 1 1 0 2 1 2 1 0 2 1 1 1 1 2 1 1 0 0 1 2 2\n",
      " 0 1 0 0 2 2 1 0 0 1 0 2 1 2 1 0 1 2 1 0 0 2 1 0 2 1 1 0 2 1 0 2 0 1 0 1 1\n",
      " 1 1 1 0 1 1 1 0 1 0 2 1 2 1 1 1 2 2 0 2 0 2 1 1 2 2 2 2 0 1 0 1 2 1 0 2 1\n",
      " 2 0 1 2 1 2 2 1 1 1 0 0 2 2 0 2 0 1 0 1 0 0 0 2 2 2 1 0 2 1 2 0 1 1 1 1 1\n",
      " 1 1 1 1 1 1 1 1 1 0 1 1 1 0 2 0 2 0 1 1 2 0 1 0 0 2 2 1 1 0 2 2 2 1 1 1 2\n",
      " 2 2 1 1 0 2 1 1 0 1 1 2 1 1 0 0 2 2 1 1 0 1 0 1 2 1 0 1 2 1 2 2 0 2 1 1 1\n",
      " 1 1 1 2 2 0 2 0 2 2 1 2 1 2 2 0 2 1 0 2 1 1 1 0 0 1 1 1 2 1 1 1 1 2 1 0 2\n",
      " 1 1 1 1 2 0 1 1 2 0 1 0 0 0 0 0 1 2 1 1 0 1 0 0 2 1 0 0 1 1 0 2 1 0 1 1 0\n",
      " 2 0 1 1 0 1 1 2 0 2 0 1 0 1 1 2 1 2 0 2 2 2 0 2 1 0 1 2 0 0 0 1 2 1 0 1 0\n",
      " 0 2 1 0 1 1 0 1 2 1 2 2 1 0 0 0 2 0 2 1 1 1 1 1 0 0 0 1 2 1 1 0 0 1 0 1 0\n",
      " 0 1 0 1 1 1 2 2 1 2 0 1 0 1 0 1 2 0 2 1 0 1 1 0 1 0 1 2 2 2 0 1 2 1 0 1 0\n",
      " 0 0 0 1 1 0 1 2 2 1 2 2 0 1 0 0 1 1 1 2 0 1 1 0 1 0 0 0 0 1 2 1 0 1 1 2 1\n",
      " 1 1 1 1 2 2 2 1 1 2 2 1 1 1 1 1 2 1 1 0 1 0 0 0 2 1 0 2 0 1 0 0 1 0 1 0 2\n",
      " 1 0 0 0 0 2 1 1 0 0 2 0 0 1 0 1 1 0 1 2 0 1 1 1 1 2 1 2 0 1 0 0 2 1 2 0 0\n",
      " 0 2 1 1 2 1 1 1 2 2 1 1 0 0 0 2 1 1 1 1 0 2 1 1 1 0 1 1 0 0 0 2 0 0 0 0 0\n",
      " 0 2 1 1 0 1 2 2 0 1 1 2 1 1 1 2 0 1 1 0 2 2 2 1 2 1 1 2 2 0 1 1 1 2 1 2 2\n",
      " 0 0 1 1 2 2 2 0 0 0 2 0 1 0 1 2 2 1 0 0 0 0 0 1 0 2 1 0 2 1 0 2 1 0 0 1 1\n",
      " 0 1 2 1 0 0 2 0 1 0 1 0 0 2 0 2 0 1 1 2 2 2 0 1 1 1 2 2 1 0 2 2 2 1 2 2 1\n",
      " 1 1 2 2 1 1 1 1 1 1 1 2 0 1 0 1 1 2 1 1 0 2 0 1 1 0 1 1 0 2 1 1 2 2 0 0 0\n",
      " 1 2 2 1 0 2 1 0 1 2 2 1 2 1 2 1 2 1 1 1 2 0 1]\n"
     ]
    }
   ],
   "source": [
    "#Predict result\n",
    "y_predict = model.predict_classes(X)\n",
    "print(len(y_predict))\n",
    "print(y_predict)"
   ]
  },
  {
   "cell_type": "code",
   "execution_count": 0,
   "metadata": {
    "colab": {
     "base_uri": "https://localhost:8080/",
     "height": 386
    },
    "colab_type": "code",
    "executionInfo": {
     "elapsed": 608,
     "status": "ok",
     "timestamp": 1585972975857,
     "user": {
      "displayName": "廖柄淦",
      "photoUrl": "https://lh3.googleusercontent.com/a-/AOh14GjZP21bMdjnp7AGGchu-PjXO1U_qXi0fI574q6H=s64",
      "userId": "05650689681420335783"
     },
     "user_tz": -480
    },
    "id": "iCYMnor5ymNi",
    "outputId": "a08f56a0-7fc6-4d61-bb87-8957e980bc68"
   },
   "outputs": [
    {
     "name": "stdout",
     "output_type": "stream",
     "text": [
      "[1 0 1 1 2 1 2 0 1 0 0 1 2 1 2 1 1 0 0 1 0 0 2 0 1 0 2 2 1 1 1 0 2 2 0 0 0\n",
      " 0 0 0 1 2 0 2 2 2 1 0 2 0 1 1 1 2 2 0 1 0 2 0 1 1 2 0 1 2 2 0 2 1 2 1 1 2\n",
      " 2 2 1 0 2 0 0 2 1 1 2 2 2 2 0 1 2 2 1 2 2 2 1 0 2 2 2 1 1 2 1 1 1 1 1 2 2\n",
      " 0 1 0 0 2 2 0 2 0 1 0 2 1 2 1 0 1 2 1 0 0 0 1 0 2 1 1 0 2 0 1 2 0 0 0 2 1\n",
      " 1 1 1 1 1 1 1 1 1 0 2 1 2 1 0 1 2 2 1 2 0 2 1 2 2 2 2 1 0 0 0 1 2 2 0 2 1\n",
      " 2 0 0 2 1 2 2 1 1 2 1 0 2 1 0 2 2 1 0 1 2 0 1 2 2 2 1 1 2 0 2 1 2 1 1 0 1\n",
      " 1 1 1 1 0 0 1 1 0 2 1 1 0 1 2 0 2 0 1 2 2 0 1 0 2 2 2 1 0 1 2 2 2 1 1 1 2\n",
      " 2 2 1 1 0 2 1 2 0 1 2 2 1 1 1 1 2 2 0 2 0 1 0 0 1 1 1 1 2 1 2 2 0 2 2 1 1\n",
      " 0 1 1 2 2 0 2 0 2 2 1 2 1 2 2 0 2 1 0 2 0 1 1 0 0 1 1 2 2 1 1 1 0 2 1 1 2\n",
      " 0 2 1 1 2 1 1 1 2 0 2 0 0 0 0 0 1 2 1 2 0 1 0 1 2 1 0 0 1 0 0 2 1 1 1 1 1\n",
      " 2 2 1 2 0 2 1 2 0 2 0 1 0 1 1 2 1 1 0 2 2 2 1 2 1 0 1 1 1 1 0 0 2 1 0 2 1\n",
      " 1 2 0 0 2 1 0 1 1 1 2 2 1 1 0 0 2 0 2 1 1 1 2 2 0 2 0 1 2 2 1 1 0 1 0 1 0\n",
      " 0 1 0 1 1 1 2 2 2 2 0 0 0 1 0 2 2 1 2 2 0 1 1 0 1 0 1 2 2 1 0 1 2 1 1 1 0\n",
      " 0 0 0 1 2 1 1 2 2 1 2 1 1 0 0 0 0 0 0 0 0 2 2 0 0 0 0 0 1 1 2 1 0 0 2 2 1\n",
      " 0 1 0 1 2 2 2 1 1 2 2 1 2 1 1 1 2 0 1 0 2 0 0 0 2 1 0 2 0 1 0 2 1 0 2 0 2\n",
      " 1 0 0 0 0 2 1 1 1 0 1 0 0 1 0 1 1 0 1 2 0 1 1 1 1 2 1 1 1 1 0 1 2 2 2 0 0\n",
      " 1 1 0 1 2 2 0 1 2 2 1 2 1 0 0 2 2 1 2 2 2 2 2 0 2 1 1 1 1 0 0 2 0 0 0 0 0\n",
      " 0 2 1 1 0 1 2 2 0 0 0 2 1 1 0 0 0 1 0 1 2 2 2 1 2 1 1 2 2 1 1 2 1 2 1 2 2\n",
      " 0 0 2 0 2 2 2 1 0 0 2 0 0 0 1 2 2 1 1 0 0 1 2 1 0 2 2 0 2 1 0 2 2 0 0 1 0\n",
      " 0 2 2 1 1 0 2 0 0 0 1 1 0 2 0 2 0 1 1 1 2 2 0 2 1 0 2 2 1 0 2 1 2 1 2 2 0\n",
      " 1 1 2 2 1 1 0 0 1 0 1 2 0 0 0 1 1 0 1 2 0 1 0 0 2 0 1 0 0 1 1 1 2 2 0 0 1\n",
      " 2 2 2 1 0 2 2 0 0 2 2 1 2 2 1 1 1 0 1 0 2 0 2]\n"
     ]
    }
   ],
   "source": [
    "#dev dataset label\n",
    "Y_cat = Y.argmax(axis=-1)\n",
    "print(Y_cat)"
   ]
  },
  {
   "cell_type": "markdown",
   "metadata": {
    "colab_type": "text",
    "id": "1nOdCKB5xx8I"
   },
   "source": [
    "# **Confusion Matrix**"
   ]
  },
  {
   "cell_type": "code",
   "execution_count": 0,
   "metadata": {
    "colab": {
     "base_uri": "https://localhost:8080/",
     "height": 166
    },
    "colab_type": "code",
    "executionInfo": {
     "elapsed": 609,
     "status": "ok",
     "timestamp": 1585973008184,
     "user": {
      "displayName": "廖柄淦",
      "photoUrl": "https://lh3.googleusercontent.com/a-/AOh14GjZP21bMdjnp7AGGchu-PjXO1U_qXi0fI574q6H=s64",
      "userId": "05650689681420335783"
     },
     "user_tz": -480
    },
    "id": "_3YREOVu5nnq",
    "outputId": "c043452d-5f25-402c-a171-4018fbce2340"
   },
   "outputs": [
    {
     "data": {
      "text/html": [
       "<div>\n",
       "<style scoped>\n",
       "    .dataframe tbody tr th:only-of-type {\n",
       "        vertical-align: middle;\n",
       "    }\n",
       "\n",
       "    .dataframe tbody tr th {\n",
       "        vertical-align: top;\n",
       "    }\n",
       "\n",
       "    .dataframe thead th {\n",
       "        text-align: right;\n",
       "    }\n",
       "</style>\n",
       "<table border=\"1\" class=\"dataframe\">\n",
       "  <thead>\n",
       "    <tr style=\"text-align: right;\">\n",
       "      <th>prediction</th>\n",
       "      <th>0</th>\n",
       "      <th>1</th>\n",
       "      <th>2</th>\n",
       "    </tr>\n",
       "    <tr>\n",
       "      <th>labels</th>\n",
       "      <th></th>\n",
       "      <th></th>\n",
       "      <th></th>\n",
       "    </tr>\n",
       "  </thead>\n",
       "  <tbody>\n",
       "    <tr>\n",
       "      <th>0</th>\n",
       "      <td>181</td>\n",
       "      <td>58</td>\n",
       "      <td>4</td>\n",
       "    </tr>\n",
       "    <tr>\n",
       "      <th>1</th>\n",
       "      <td>56</td>\n",
       "      <td>220</td>\n",
       "      <td>17</td>\n",
       "    </tr>\n",
       "    <tr>\n",
       "      <th>2</th>\n",
       "      <td>10</td>\n",
       "      <td>65</td>\n",
       "      <td>189</td>\n",
       "    </tr>\n",
       "  </tbody>\n",
       "</table>\n",
       "</div>"
      ],
      "text/plain": [
       "prediction    0    1    2\n",
       "labels                   \n",
       "0           181   58    4\n",
       "1            56  220   17\n",
       "2            10   65  189"
      ]
     },
     "execution_count": 23,
     "metadata": {
      "tags": []
     },
     "output_type": "execute_result"
    }
   ],
   "source": [
    "#Confusion matrix by pandas\n",
    "pd.crosstab(Y_cat, y_predict, rownames=['labels'], colnames=['prediction'])"
   ]
  },
  {
   "cell_type": "code",
   "execution_count": 0,
   "metadata": {
    "colab": {
     "base_uri": "https://localhost:8080/",
     "height": 67
    },
    "colab_type": "code",
    "executionInfo": {
     "elapsed": 720,
     "status": "ok",
     "timestamp": 1585973014062,
     "user": {
      "displayName": "廖柄淦",
      "photoUrl": "https://lh3.googleusercontent.com/a-/AOh14GjZP21bMdjnp7AGGchu-PjXO1U_qXi0fI574q6H=s64",
      "userId": "05650689681420335783"
     },
     "user_tz": -480
    },
    "id": "GPKdoVUt6Ffv",
    "outputId": "84a610e9-7c22-4859-b010-2528a6b67e87"
   },
   "outputs": [
    {
     "name": "stdout",
     "output_type": "stream",
     "text": [
      "[[181  58   4]\n",
      " [ 56 220  17]\n",
      " [ 10  65 189]]\n"
     ]
    }
   ],
   "source": [
    "#Confusion matrix by sklearn\n",
    "c = confusion_matrix(Y_cat, y_predict)\n",
    "print(c)"
   ]
  },
  {
   "cell_type": "code",
   "execution_count": 0,
   "metadata": {
    "colab": {
     "base_uri": "https://localhost:8080/",
     "height": 185
    },
    "colab_type": "code",
    "executionInfo": {
     "elapsed": 679,
     "status": "ok",
     "timestamp": 1585973023982,
     "user": {
      "displayName": "廖柄淦",
      "photoUrl": "https://lh3.googleusercontent.com/a-/AOh14GjZP21bMdjnp7AGGchu-PjXO1U_qXi0fI574q6H=s64",
      "userId": "05650689681420335783"
     },
     "user_tz": -480
    },
    "id": "lh0EaS3f8xzt",
    "outputId": "6c7380c3-4f95-4c5e-ea34-c2faf247d16a"
   },
   "outputs": [
    {
     "name": "stdout",
     "output_type": "stream",
     "text": [
      "              precision    recall  f1-score   support\n",
      "\n",
      "           A       0.73      0.74      0.74       243\n",
      "           B       0.64      0.75      0.69       293\n",
      "           C       0.90      0.72      0.80       264\n",
      "\n",
      "    accuracy                           0.74       800\n",
      "   macro avg       0.76      0.74      0.74       800\n",
      "weighted avg       0.75      0.74      0.74       800\n",
      "\n"
     ]
    }
   ],
   "source": [
    "#Precison, recall and f1-score\n",
    "print(classification_report(Y_cat, y_predict, target_names=['A', 'B', 'C']))"
   ]
  }
 ],
 "metadata": {
  "accelerator": "GPU",
  "colab": {
   "collapsed_sections": [],
   "name": "CNN_VGG16.ipynb",
   "provenance": []
  },
  "kernelspec": {
   "display_name": "Python 3",
   "language": "python",
   "name": "python3"
  },
  "language_info": {
   "codemirror_mode": {
    "name": "ipython",
    "version": 3
   },
   "file_extension": ".py",
   "mimetype": "text/x-python",
   "name": "python",
   "nbconvert_exporter": "python",
   "pygments_lexer": "ipython3",
   "version": "3.6.9"
  }
 },
 "nbformat": 4,
 "nbformat_minor": 1
}
