{
 "cells": [
  {
   "cell_type": "code",
   "execution_count": null,
   "metadata": {
    "colab": {
     "base_uri": "https://localhost:8080/",
     "height": 34
    },
    "colab_type": "code",
    "executionInfo": {
     "elapsed": 862,
     "status": "ok",
     "timestamp": 1586090841848,
     "user": {
      "displayName": "廖柄淦",
      "photoUrl": "https://lh3.googleusercontent.com/a-/AOh14GjZP21bMdjnp7AGGchu-PjXO1U_qXi0fI574q6H=s64",
      "userId": "05650689681420335783"
     },
     "user_tz": -480
    },
    "id": "8RuGapBJKLOP",
    "outputId": "44564467-9ae3-44fa-b141-1b50ab1dc9f1"
   },
   "outputs": [],
   "source": [
    "#Mount Google Drive\n",
    "from google.colab import drive\n",
    "drive.mount('/content/gdrive')"
   ]
  },
  {
   "cell_type": "code",
   "execution_count": null,
   "metadata": {
    "colab": {
     "base_uri": "https://localhost:8080/",
     "height": 101
    },
    "colab_type": "code",
    "executionInfo": {
     "elapsed": 2510,
     "status": "ok",
     "timestamp": 1586090846577,
     "user": {
      "displayName": "廖柄淦",
      "photoUrl": "https://lh3.googleusercontent.com/a-/AOh14GjZP21bMdjnp7AGGchu-PjXO1U_qXi0fI574q6H=s64",
      "userId": "05650689681420335783"
     },
     "user_tz": -480
    },
    "id": "j7VTgxmaKMQY",
    "outputId": "fc1e1f6c-2d0b-4ede-eea8-b7fa058831d6"
   },
   "outputs": [],
   "source": [
    "#View the content of Google Drive\n",
    "!ls /content/gdrive/My\\ Drive/TA/1082"
   ]
  },
  {
   "cell_type": "code",
   "execution_count": 3,
   "metadata": {
    "colab": {
     "base_uri": "https://localhost:8080/",
     "height": 50
    },
    "colab_type": "code",
    "executionInfo": {
     "elapsed": 3907,
     "status": "ok",
     "timestamp": 1586090850966,
     "user": {
      "displayName": "廖柄淦",
      "photoUrl": "https://lh3.googleusercontent.com/a-/AOh14GjZP21bMdjnp7AGGchu-PjXO1U_qXi0fI574q6H=s64",
      "userId": "05650689681420335783"
     },
     "user_tz": -480
    },
    "id": "Kwlx46-sJxSO",
    "outputId": "4cbf64ef-ce66-4374-bbb0-c2002360d337"
   },
   "outputs": [
    {
     "name": "stdout",
     "output_type": "stream",
     "text": [
      "TensorFlow 1.x selected.\n"
     ]
    },
    {
     "name": "stderr",
     "output_type": "stream",
     "text": [
      "Using TensorFlow backend.\n"
     ]
    }
   ],
   "source": [
    "#Import package\n",
    "%tensorflow_version 1.x\n",
    "from keras_preprocessing.image import load_img\n",
    "from keras_preprocessing.image import img_to_array\n",
    "from keras_preprocessing.image import ImageDataGenerator\n",
    "from keras.callbacks import EarlyStopping\n",
    "from keras.callbacks import ModelCheckpoint\n",
    "from keras_applications import resnext\n",
    "from keras import layers\n",
    "from keras import models\n",
    "from keras import optimizers\n",
    "from sklearn.model_selection import train_test_split\n",
    "from sklearn.metrics import confusion_matrix\n",
    "from sklearn.metrics import classification_report\n",
    "import keras\n",
    "import os\n",
    "import pandas as pd\n",
    "import numpy as np\n",
    "import matplotlib.pyplot as plt"
   ]
  },
  {
   "cell_type": "markdown",
   "metadata": {
    "colab_type": "text",
    "id": "PWEc8RZpNpHv"
   },
   "source": [
    "# **ResNeXt50 model**"
   ]
  },
  {
   "cell_type": "code",
   "execution_count": 4,
   "metadata": {
    "colab": {
     "base_uri": "https://localhost:8080/",
     "height": 70
    },
    "colab_type": "code",
    "executionInfo": {
     "elapsed": 662,
     "status": "ok",
     "timestamp": 1586090852169,
     "user": {
      "displayName": "廖柄淦",
      "photoUrl": "https://lh3.googleusercontent.com/a-/AOh14GjZP21bMdjnp7AGGchu-PjXO1U_qXi0fI574q6H=s64",
      "userId": "05650689681420335783"
     },
     "user_tz": -480
    },
    "id": "-f2mtdfzNy1x",
    "outputId": "de41b4f7-26c8-4d2e-8e93-16b207f8af73"
   },
   "outputs": [
    {
     "name": "stdout",
     "output_type": "stream",
     "text": [
      "WARNING:tensorflow:From /usr/local/lib/python3.6/dist-packages/keras/backend/tensorflow_backend.py:66: The name tf.get_default_graph is deprecated. Please use tf.compat.v1.get_default_graph instead.\n",
      "\n"
     ]
    }
   ],
   "source": [
    "model = models.Sequential()"
   ]
  },
  {
   "cell_type": "code",
   "execution_count": 5,
   "metadata": {
    "colab": {
     "base_uri": "https://localhost:8080/",
     "height": 406
    },
    "colab_type": "code",
    "executionInfo": {
     "elapsed": 13831,
     "status": "ok",
     "timestamp": 1586090868050,
     "user": {
      "displayName": "廖柄淦",
      "photoUrl": "https://lh3.googleusercontent.com/a-/AOh14GjZP21bMdjnp7AGGchu-PjXO1U_qXi0fI574q6H=s64",
      "userId": "05650689681420335783"
     },
     "user_tz": -480
    },
    "id": "bqwE5bIkJ8Ty",
    "outputId": "8029fe76-1ba4-4692-a63a-cf64869081ff"
   },
   "outputs": [
    {
     "name": "stdout",
     "output_type": "stream",
     "text": [
      "WARNING:tensorflow:From /usr/local/lib/python3.6/dist-packages/keras/backend/tensorflow_backend.py:541: The name tf.placeholder is deprecated. Please use tf.compat.v1.placeholder instead.\n",
      "\n",
      "WARNING:tensorflow:From /usr/local/lib/python3.6/dist-packages/keras/backend/tensorflow_backend.py:4432: The name tf.random_uniform is deprecated. Please use tf.random.uniform instead.\n",
      "\n",
      "WARNING:tensorflow:From /usr/local/lib/python3.6/dist-packages/keras/backend/tensorflow_backend.py:190: The name tf.get_default_session is deprecated. Please use tf.compat.v1.get_default_session instead.\n",
      "\n",
      "WARNING:tensorflow:From /usr/local/lib/python3.6/dist-packages/keras/backend/tensorflow_backend.py:197: The name tf.ConfigProto is deprecated. Please use tf.compat.v1.ConfigProto instead.\n",
      "\n",
      "WARNING:tensorflow:From /usr/local/lib/python3.6/dist-packages/keras/backend/tensorflow_backend.py:203: The name tf.Session is deprecated. Please use tf.compat.v1.Session instead.\n",
      "\n",
      "WARNING:tensorflow:From /usr/local/lib/python3.6/dist-packages/keras/backend/tensorflow_backend.py:207: The name tf.global_variables is deprecated. Please use tf.compat.v1.global_variables instead.\n",
      "\n",
      "WARNING:tensorflow:From /usr/local/lib/python3.6/dist-packages/keras/backend/tensorflow_backend.py:216: The name tf.is_variable_initialized is deprecated. Please use tf.compat.v1.is_variable_initialized instead.\n",
      "\n",
      "WARNING:tensorflow:From /usr/local/lib/python3.6/dist-packages/keras/backend/tensorflow_backend.py:223: The name tf.variables_initializer is deprecated. Please use tf.compat.v1.variables_initializer instead.\n",
      "\n",
      "WARNING:tensorflow:From /usr/local/lib/python3.6/dist-packages/keras/backend/tensorflow_backend.py:2041: The name tf.nn.fused_batch_norm is deprecated. Please use tf.compat.v1.nn.fused_batch_norm instead.\n",
      "\n",
      "WARNING:tensorflow:From /usr/local/lib/python3.6/dist-packages/keras/backend/tensorflow_backend.py:148: The name tf.placeholder_with_default is deprecated. Please use tf.compat.v1.placeholder_with_default instead.\n",
      "\n",
      "WARNING:tensorflow:From /usr/local/lib/python3.6/dist-packages/keras/backend/tensorflow_backend.py:4267: The name tf.nn.max_pool is deprecated. Please use tf.nn.max_pool2d instead.\n",
      "\n"
     ]
    }
   ],
   "source": [
    "conv_base = resnext.ResNeXt50(include_top=False, weights = 'imagenet', input_shape=(224, 224, 3), backend = keras.backend, layers = keras.layers, models = keras.models, utils = keras.utils)"
   ]
  },
  {
   "cell_type": "code",
   "execution_count": 6,
   "metadata": {
    "colab": {
     "base_uri": "https://localhost:8080/",
     "height": 1000
    },
    "colab_type": "code",
    "executionInfo": {
     "elapsed": 632,
     "status": "ok",
     "timestamp": 1586090890178,
     "user": {
      "displayName": "廖柄淦",
      "photoUrl": "https://lh3.googleusercontent.com/a-/AOh14GjZP21bMdjnp7AGGchu-PjXO1U_qXi0fI574q6H=s64",
      "userId": "05650689681420335783"
     },
     "user_tz": -480
    },
    "id": "3yWYKrYsVfN4",
    "outputId": "cca91d5d-f1ab-4812-a937-b697e3c66d0c"
   },
   "outputs": [
    {
     "name": "stdout",
     "output_type": "stream",
     "text": [
      "Model: \"resnext50\"\n",
      "__________________________________________________________________________________________________\n",
      "Layer (type)                    Output Shape         Param #     Connected to                     \n",
      "==================================================================================================\n",
      "input_1 (InputLayer)            (None, 224, 224, 3)  0                                            \n",
      "__________________________________________________________________________________________________\n",
      "conv1_pad (ZeroPadding2D)       (None, 230, 230, 3)  0           input_1[0][0]                    \n",
      "__________________________________________________________________________________________________\n",
      "conv1_conv (Conv2D)             (None, 112, 112, 64) 9408        conv1_pad[0][0]                  \n",
      "__________________________________________________________________________________________________\n",
      "conv1_bn (BatchNormalization)   (None, 112, 112, 64) 256         conv1_conv[0][0]                 \n",
      "__________________________________________________________________________________________________\n",
      "conv1_relu (Activation)         (None, 112, 112, 64) 0           conv1_bn[0][0]                   \n",
      "__________________________________________________________________________________________________\n",
      "pool1_pad (ZeroPadding2D)       (None, 114, 114, 64) 0           conv1_relu[0][0]                 \n",
      "__________________________________________________________________________________________________\n",
      "pool1_pool (MaxPooling2D)       (None, 56, 56, 64)   0           pool1_pad[0][0]                  \n",
      "__________________________________________________________________________________________________\n",
      "conv2_block1_1_conv (Conv2D)    (None, 56, 56, 128)  8192        pool1_pool[0][0]                 \n",
      "__________________________________________________________________________________________________\n",
      "conv2_block1_1_bn (BatchNormali (None, 56, 56, 128)  512         conv2_block1_1_conv[0][0]        \n",
      "__________________________________________________________________________________________________\n",
      "conv2_block1_1_relu (Activation (None, 56, 56, 128)  0           conv2_block1_1_bn[0][0]          \n",
      "__________________________________________________________________________________________________\n",
      "conv2_block1_2_pad (ZeroPadding (None, 58, 58, 128)  0           conv2_block1_1_relu[0][0]        \n",
      "__________________________________________________________________________________________________\n",
      "conv2_block1_2_conv (DepthwiseC (None, 56, 56, 512)  4608        conv2_block1_2_pad[0][0]         \n",
      "__________________________________________________________________________________________________\n",
      "reshape_1 (Reshape)             (None, 56, 56, 32, 4 0           conv2_block1_2_conv[0][0]        \n",
      "__________________________________________________________________________________________________\n",
      "conv2_block1_2_reduce (Lambda)  (None, 56, 56, 32, 4 0           reshape_1[0][0]                  \n",
      "__________________________________________________________________________________________________\n",
      "reshape_2 (Reshape)             (None, 56, 56, 128)  0           conv2_block1_2_reduce[0][0]      \n",
      "__________________________________________________________________________________________________\n",
      "conv2_block1_2_bn (BatchNormali (None, 56, 56, 128)  512         reshape_2[0][0]                  \n",
      "__________________________________________________________________________________________________\n",
      "conv2_block1_2_relu (Activation (None, 56, 56, 128)  0           conv2_block1_2_bn[0][0]          \n",
      "__________________________________________________________________________________________________\n",
      "conv2_block1_0_conv (Conv2D)    (None, 56, 56, 256)  16384       pool1_pool[0][0]                 \n",
      "__________________________________________________________________________________________________\n",
      "conv2_block1_3_conv (Conv2D)    (None, 56, 56, 256)  32768       conv2_block1_2_relu[0][0]        \n",
      "__________________________________________________________________________________________________\n",
      "conv2_block1_0_bn (BatchNormali (None, 56, 56, 256)  1024        conv2_block1_0_conv[0][0]        \n",
      "__________________________________________________________________________________________________\n",
      "conv2_block1_3_bn (BatchNormali (None, 56, 56, 256)  1024        conv2_block1_3_conv[0][0]        \n",
      "__________________________________________________________________________________________________\n",
      "conv2_block1_add (Add)          (None, 56, 56, 256)  0           conv2_block1_0_bn[0][0]          \n",
      "                                                                 conv2_block1_3_bn[0][0]          \n",
      "__________________________________________________________________________________________________\n",
      "conv2_block1_out (Activation)   (None, 56, 56, 256)  0           conv2_block1_add[0][0]           \n",
      "__________________________________________________________________________________________________\n",
      "conv2_block2_1_conv (Conv2D)    (None, 56, 56, 128)  32768       conv2_block1_out[0][0]           \n",
      "__________________________________________________________________________________________________\n",
      "conv2_block2_1_bn (BatchNormali (None, 56, 56, 128)  512         conv2_block2_1_conv[0][0]        \n",
      "__________________________________________________________________________________________________\n",
      "conv2_block2_1_relu (Activation (None, 56, 56, 128)  0           conv2_block2_1_bn[0][0]          \n",
      "__________________________________________________________________________________________________\n",
      "conv2_block2_2_pad (ZeroPadding (None, 58, 58, 128)  0           conv2_block2_1_relu[0][0]        \n",
      "__________________________________________________________________________________________________\n",
      "conv2_block2_2_conv (DepthwiseC (None, 56, 56, 512)  4608        conv2_block2_2_pad[0][0]         \n",
      "__________________________________________________________________________________________________\n",
      "reshape_3 (Reshape)             (None, 56, 56, 32, 4 0           conv2_block2_2_conv[0][0]        \n",
      "__________________________________________________________________________________________________\n",
      "conv2_block2_2_reduce (Lambda)  (None, 56, 56, 32, 4 0           reshape_3[0][0]                  \n",
      "__________________________________________________________________________________________________\n",
      "reshape_4 (Reshape)             (None, 56, 56, 128)  0           conv2_block2_2_reduce[0][0]      \n",
      "__________________________________________________________________________________________________\n",
      "conv2_block2_2_bn (BatchNormali (None, 56, 56, 128)  512         reshape_4[0][0]                  \n",
      "__________________________________________________________________________________________________\n",
      "conv2_block2_2_relu (Activation (None, 56, 56, 128)  0           conv2_block2_2_bn[0][0]          \n",
      "__________________________________________________________________________________________________\n",
      "conv2_block2_3_conv (Conv2D)    (None, 56, 56, 256)  32768       conv2_block2_2_relu[0][0]        \n",
      "__________________________________________________________________________________________________\n",
      "conv2_block2_3_bn (BatchNormali (None, 56, 56, 256)  1024        conv2_block2_3_conv[0][0]        \n",
      "__________________________________________________________________________________________________\n",
      "conv2_block2_add (Add)          (None, 56, 56, 256)  0           conv2_block1_out[0][0]           \n",
      "                                                                 conv2_block2_3_bn[0][0]          \n",
      "__________________________________________________________________________________________________\n",
      "conv2_block2_out (Activation)   (None, 56, 56, 256)  0           conv2_block2_add[0][0]           \n",
      "__________________________________________________________________________________________________\n",
      "conv2_block3_1_conv (Conv2D)    (None, 56, 56, 128)  32768       conv2_block2_out[0][0]           \n",
      "__________________________________________________________________________________________________\n",
      "conv2_block3_1_bn (BatchNormali (None, 56, 56, 128)  512         conv2_block3_1_conv[0][0]        \n",
      "__________________________________________________________________________________________________\n",
      "conv2_block3_1_relu (Activation (None, 56, 56, 128)  0           conv2_block3_1_bn[0][0]          \n",
      "__________________________________________________________________________________________________\n",
      "conv2_block3_2_pad (ZeroPadding (None, 58, 58, 128)  0           conv2_block3_1_relu[0][0]        \n",
      "__________________________________________________________________________________________________\n",
      "conv2_block3_2_conv (DepthwiseC (None, 56, 56, 512)  4608        conv2_block3_2_pad[0][0]         \n",
      "__________________________________________________________________________________________________\n",
      "reshape_5 (Reshape)             (None, 56, 56, 32, 4 0           conv2_block3_2_conv[0][0]        \n",
      "__________________________________________________________________________________________________\n",
      "conv2_block3_2_reduce (Lambda)  (None, 56, 56, 32, 4 0           reshape_5[0][0]                  \n",
      "__________________________________________________________________________________________________\n",
      "reshape_6 (Reshape)             (None, 56, 56, 128)  0           conv2_block3_2_reduce[0][0]      \n",
      "__________________________________________________________________________________________________\n",
      "conv2_block3_2_bn (BatchNormali (None, 56, 56, 128)  512         reshape_6[0][0]                  \n",
      "__________________________________________________________________________________________________\n",
      "conv2_block3_2_relu (Activation (None, 56, 56, 128)  0           conv2_block3_2_bn[0][0]          \n",
      "__________________________________________________________________________________________________\n",
      "conv2_block3_3_conv (Conv2D)    (None, 56, 56, 256)  32768       conv2_block3_2_relu[0][0]        \n",
      "__________________________________________________________________________________________________\n",
      "conv2_block3_3_bn (BatchNormali (None, 56, 56, 256)  1024        conv2_block3_3_conv[0][0]        \n",
      "__________________________________________________________________________________________________\n",
      "conv2_block3_add (Add)          (None, 56, 56, 256)  0           conv2_block2_out[0][0]           \n",
      "                                                                 conv2_block3_3_bn[0][0]          \n",
      "__________________________________________________________________________________________________\n",
      "conv2_block3_out (Activation)   (None, 56, 56, 256)  0           conv2_block3_add[0][0]           \n",
      "__________________________________________________________________________________________________\n",
      "conv3_block1_1_conv (Conv2D)    (None, 56, 56, 256)  65536       conv2_block3_out[0][0]           \n",
      "__________________________________________________________________________________________________\n",
      "conv3_block1_1_bn (BatchNormali (None, 56, 56, 256)  1024        conv3_block1_1_conv[0][0]        \n",
      "__________________________________________________________________________________________________\n",
      "conv3_block1_1_relu (Activation (None, 56, 56, 256)  0           conv3_block1_1_bn[0][0]          \n",
      "__________________________________________________________________________________________________\n",
      "conv3_block1_2_pad (ZeroPadding (None, 58, 58, 256)  0           conv3_block1_1_relu[0][0]        \n",
      "__________________________________________________________________________________________________\n",
      "conv3_block1_2_conv (DepthwiseC (None, 28, 28, 2048) 18432       conv3_block1_2_pad[0][0]         \n",
      "__________________________________________________________________________________________________\n",
      "reshape_7 (Reshape)             (None, 28, 28, 32, 8 0           conv3_block1_2_conv[0][0]        \n",
      "__________________________________________________________________________________________________\n",
      "conv3_block1_2_reduce (Lambda)  (None, 28, 28, 32, 8 0           reshape_7[0][0]                  \n",
      "__________________________________________________________________________________________________\n",
      "reshape_8 (Reshape)             (None, 28, 28, 256)  0           conv3_block1_2_reduce[0][0]      \n",
      "__________________________________________________________________________________________________\n",
      "conv3_block1_2_bn (BatchNormali (None, 28, 28, 256)  1024        reshape_8[0][0]                  \n",
      "__________________________________________________________________________________________________\n",
      "conv3_block1_2_relu (Activation (None, 28, 28, 256)  0           conv3_block1_2_bn[0][0]          \n",
      "__________________________________________________________________________________________________\n",
      "conv3_block1_0_conv (Conv2D)    (None, 28, 28, 512)  131072      conv2_block3_out[0][0]           \n",
      "__________________________________________________________________________________________________\n",
      "conv3_block1_3_conv (Conv2D)    (None, 28, 28, 512)  131072      conv3_block1_2_relu[0][0]        \n",
      "__________________________________________________________________________________________________\n",
      "conv3_block1_0_bn (BatchNormali (None, 28, 28, 512)  2048        conv3_block1_0_conv[0][0]        \n",
      "__________________________________________________________________________________________________\n",
      "conv3_block1_3_bn (BatchNormali (None, 28, 28, 512)  2048        conv3_block1_3_conv[0][0]        \n",
      "__________________________________________________________________________________________________\n",
      "conv3_block1_add (Add)          (None, 28, 28, 512)  0           conv3_block1_0_bn[0][0]          \n",
      "                                                                 conv3_block1_3_bn[0][0]          \n",
      "__________________________________________________________________________________________________\n",
      "conv3_block1_out (Activation)   (None, 28, 28, 512)  0           conv3_block1_add[0][0]           \n",
      "__________________________________________________________________________________________________\n",
      "conv3_block2_1_conv (Conv2D)    (None, 28, 28, 256)  131072      conv3_block1_out[0][0]           \n",
      "__________________________________________________________________________________________________\n",
      "conv3_block2_1_bn (BatchNormali (None, 28, 28, 256)  1024        conv3_block2_1_conv[0][0]        \n",
      "__________________________________________________________________________________________________\n",
      "conv3_block2_1_relu (Activation (None, 28, 28, 256)  0           conv3_block2_1_bn[0][0]          \n",
      "__________________________________________________________________________________________________\n",
      "conv3_block2_2_pad (ZeroPadding (None, 30, 30, 256)  0           conv3_block2_1_relu[0][0]        \n",
      "__________________________________________________________________________________________________\n",
      "conv3_block2_2_conv (DepthwiseC (None, 28, 28, 2048) 18432       conv3_block2_2_pad[0][0]         \n",
      "__________________________________________________________________________________________________\n",
      "reshape_9 (Reshape)             (None, 28, 28, 32, 8 0           conv3_block2_2_conv[0][0]        \n",
      "__________________________________________________________________________________________________\n",
      "conv3_block2_2_reduce (Lambda)  (None, 28, 28, 32, 8 0           reshape_9[0][0]                  \n",
      "__________________________________________________________________________________________________\n",
      "reshape_10 (Reshape)            (None, 28, 28, 256)  0           conv3_block2_2_reduce[0][0]      \n",
      "__________________________________________________________________________________________________\n",
      "conv3_block2_2_bn (BatchNormali (None, 28, 28, 256)  1024        reshape_10[0][0]                 \n",
      "__________________________________________________________________________________________________\n",
      "conv3_block2_2_relu (Activation (None, 28, 28, 256)  0           conv3_block2_2_bn[0][0]          \n",
      "__________________________________________________________________________________________________\n",
      "conv3_block2_3_conv (Conv2D)    (None, 28, 28, 512)  131072      conv3_block2_2_relu[0][0]        \n",
      "__________________________________________________________________________________________________\n",
      "conv3_block2_3_bn (BatchNormali (None, 28, 28, 512)  2048        conv3_block2_3_conv[0][0]        \n",
      "__________________________________________________________________________________________________\n",
      "conv3_block2_add (Add)          (None, 28, 28, 512)  0           conv3_block1_out[0][0]           \n",
      "                                                                 conv3_block2_3_bn[0][0]          \n",
      "__________________________________________________________________________________________________\n",
      "conv3_block2_out (Activation)   (None, 28, 28, 512)  0           conv3_block2_add[0][0]           \n",
      "__________________________________________________________________________________________________\n",
      "conv3_block3_1_conv (Conv2D)    (None, 28, 28, 256)  131072      conv3_block2_out[0][0]           \n",
      "__________________________________________________________________________________________________\n",
      "conv3_block3_1_bn (BatchNormali (None, 28, 28, 256)  1024        conv3_block3_1_conv[0][0]        \n",
      "__________________________________________________________________________________________________\n",
      "conv3_block3_1_relu (Activation (None, 28, 28, 256)  0           conv3_block3_1_bn[0][0]          \n",
      "__________________________________________________________________________________________________\n",
      "conv3_block3_2_pad (ZeroPadding (None, 30, 30, 256)  0           conv3_block3_1_relu[0][0]        \n",
      "__________________________________________________________________________________________________\n",
      "conv3_block3_2_conv (DepthwiseC (None, 28, 28, 2048) 18432       conv3_block3_2_pad[0][0]         \n",
      "__________________________________________________________________________________________________\n",
      "reshape_11 (Reshape)            (None, 28, 28, 32, 8 0           conv3_block3_2_conv[0][0]        \n",
      "__________________________________________________________________________________________________\n",
      "conv3_block3_2_reduce (Lambda)  (None, 28, 28, 32, 8 0           reshape_11[0][0]                 \n",
      "__________________________________________________________________________________________________\n",
      "reshape_12 (Reshape)            (None, 28, 28, 256)  0           conv3_block3_2_reduce[0][0]      \n",
      "__________________________________________________________________________________________________\n",
      "conv3_block3_2_bn (BatchNormali (None, 28, 28, 256)  1024        reshape_12[0][0]                 \n",
      "__________________________________________________________________________________________________\n",
      "conv3_block3_2_relu (Activation (None, 28, 28, 256)  0           conv3_block3_2_bn[0][0]          \n",
      "__________________________________________________________________________________________________\n",
      "conv3_block3_3_conv (Conv2D)    (None, 28, 28, 512)  131072      conv3_block3_2_relu[0][0]        \n",
      "__________________________________________________________________________________________________\n",
      "conv3_block3_3_bn (BatchNormali (None, 28, 28, 512)  2048        conv3_block3_3_conv[0][0]        \n",
      "__________________________________________________________________________________________________\n",
      "conv3_block3_add (Add)          (None, 28, 28, 512)  0           conv3_block2_out[0][0]           \n",
      "                                                                 conv3_block3_3_bn[0][0]          \n",
      "__________________________________________________________________________________________________\n",
      "conv3_block3_out (Activation)   (None, 28, 28, 512)  0           conv3_block3_add[0][0]           \n",
      "__________________________________________________________________________________________________\n",
      "conv3_block4_1_conv (Conv2D)    (None, 28, 28, 256)  131072      conv3_block3_out[0][0]           \n",
      "__________________________________________________________________________________________________\n",
      "conv3_block4_1_bn (BatchNormali (None, 28, 28, 256)  1024        conv3_block4_1_conv[0][0]        \n",
      "__________________________________________________________________________________________________\n",
      "conv3_block4_1_relu (Activation (None, 28, 28, 256)  0           conv3_block4_1_bn[0][0]          \n",
      "__________________________________________________________________________________________________\n",
      "conv3_block4_2_pad (ZeroPadding (None, 30, 30, 256)  0           conv3_block4_1_relu[0][0]        \n",
      "__________________________________________________________________________________________________\n",
      "conv3_block4_2_conv (DepthwiseC (None, 28, 28, 2048) 18432       conv3_block4_2_pad[0][0]         \n",
      "__________________________________________________________________________________________________\n",
      "reshape_13 (Reshape)            (None, 28, 28, 32, 8 0           conv3_block4_2_conv[0][0]        \n",
      "__________________________________________________________________________________________________\n",
      "conv3_block4_2_reduce (Lambda)  (None, 28, 28, 32, 8 0           reshape_13[0][0]                 \n",
      "__________________________________________________________________________________________________\n",
      "reshape_14 (Reshape)            (None, 28, 28, 256)  0           conv3_block4_2_reduce[0][0]      \n",
      "__________________________________________________________________________________________________\n",
      "conv3_block4_2_bn (BatchNormali (None, 28, 28, 256)  1024        reshape_14[0][0]                 \n",
      "__________________________________________________________________________________________________\n",
      "conv3_block4_2_relu (Activation (None, 28, 28, 256)  0           conv3_block4_2_bn[0][0]          \n",
      "__________________________________________________________________________________________________\n",
      "conv3_block4_3_conv (Conv2D)    (None, 28, 28, 512)  131072      conv3_block4_2_relu[0][0]        \n",
      "__________________________________________________________________________________________________\n",
      "conv3_block4_3_bn (BatchNormali (None, 28, 28, 512)  2048        conv3_block4_3_conv[0][0]        \n",
      "__________________________________________________________________________________________________\n",
      "conv3_block4_add (Add)          (None, 28, 28, 512)  0           conv3_block3_out[0][0]           \n",
      "                                                                 conv3_block4_3_bn[0][0]          \n",
      "__________________________________________________________________________________________________\n",
      "conv3_block4_out (Activation)   (None, 28, 28, 512)  0           conv3_block4_add[0][0]           \n",
      "__________________________________________________________________________________________________\n",
      "conv4_block1_1_conv (Conv2D)    (None, 28, 28, 512)  262144      conv3_block4_out[0][0]           \n",
      "__________________________________________________________________________________________________\n",
      "conv4_block1_1_bn (BatchNormali (None, 28, 28, 512)  2048        conv4_block1_1_conv[0][0]        \n",
      "__________________________________________________________________________________________________\n",
      "conv4_block1_1_relu (Activation (None, 28, 28, 512)  0           conv4_block1_1_bn[0][0]          \n",
      "__________________________________________________________________________________________________\n",
      "conv4_block1_2_pad (ZeroPadding (None, 30, 30, 512)  0           conv4_block1_1_relu[0][0]        \n",
      "__________________________________________________________________________________________________\n",
      "conv4_block1_2_conv (DepthwiseC (None, 14, 14, 8192) 73728       conv4_block1_2_pad[0][0]         \n",
      "__________________________________________________________________________________________________\n",
      "reshape_15 (Reshape)            (None, 14, 14, 32, 1 0           conv4_block1_2_conv[0][0]        \n",
      "__________________________________________________________________________________________________\n",
      "conv4_block1_2_reduce (Lambda)  (None, 14, 14, 32, 1 0           reshape_15[0][0]                 \n",
      "__________________________________________________________________________________________________\n",
      "reshape_16 (Reshape)            (None, 14, 14, 512)  0           conv4_block1_2_reduce[0][0]      \n",
      "__________________________________________________________________________________________________\n",
      "conv4_block1_2_bn (BatchNormali (None, 14, 14, 512)  2048        reshape_16[0][0]                 \n",
      "__________________________________________________________________________________________________\n",
      "conv4_block1_2_relu (Activation (None, 14, 14, 512)  0           conv4_block1_2_bn[0][0]          \n",
      "__________________________________________________________________________________________________\n",
      "conv4_block1_0_conv (Conv2D)    (None, 14, 14, 1024) 524288      conv3_block4_out[0][0]           \n",
      "__________________________________________________________________________________________________\n",
      "conv4_block1_3_conv (Conv2D)    (None, 14, 14, 1024) 524288      conv4_block1_2_relu[0][0]        \n",
      "__________________________________________________________________________________________________\n",
      "conv4_block1_0_bn (BatchNormali (None, 14, 14, 1024) 4096        conv4_block1_0_conv[0][0]        \n",
      "__________________________________________________________________________________________________\n",
      "conv4_block1_3_bn (BatchNormali (None, 14, 14, 1024) 4096        conv4_block1_3_conv[0][0]        \n",
      "__________________________________________________________________________________________________\n",
      "conv4_block1_add (Add)          (None, 14, 14, 1024) 0           conv4_block1_0_bn[0][0]          \n",
      "                                                                 conv4_block1_3_bn[0][0]          \n",
      "__________________________________________________________________________________________________\n",
      "conv4_block1_out (Activation)   (None, 14, 14, 1024) 0           conv4_block1_add[0][0]           \n",
      "__________________________________________________________________________________________________\n",
      "conv4_block2_1_conv (Conv2D)    (None, 14, 14, 512)  524288      conv4_block1_out[0][0]           \n",
      "__________________________________________________________________________________________________\n",
      "conv4_block2_1_bn (BatchNormali (None, 14, 14, 512)  2048        conv4_block2_1_conv[0][0]        \n",
      "__________________________________________________________________________________________________\n",
      "conv4_block2_1_relu (Activation (None, 14, 14, 512)  0           conv4_block2_1_bn[0][0]          \n",
      "__________________________________________________________________________________________________\n",
      "conv4_block2_2_pad (ZeroPadding (None, 16, 16, 512)  0           conv4_block2_1_relu[0][0]        \n",
      "__________________________________________________________________________________________________\n",
      "conv4_block2_2_conv (DepthwiseC (None, 14, 14, 8192) 73728       conv4_block2_2_pad[0][0]         \n",
      "__________________________________________________________________________________________________\n",
      "reshape_17 (Reshape)            (None, 14, 14, 32, 1 0           conv4_block2_2_conv[0][0]        \n",
      "__________________________________________________________________________________________________\n",
      "conv4_block2_2_reduce (Lambda)  (None, 14, 14, 32, 1 0           reshape_17[0][0]                 \n",
      "__________________________________________________________________________________________________\n",
      "reshape_18 (Reshape)            (None, 14, 14, 512)  0           conv4_block2_2_reduce[0][0]      \n",
      "__________________________________________________________________________________________________\n",
      "conv4_block2_2_bn (BatchNormali (None, 14, 14, 512)  2048        reshape_18[0][0]                 \n",
      "__________________________________________________________________________________________________\n",
      "conv4_block2_2_relu (Activation (None, 14, 14, 512)  0           conv4_block2_2_bn[0][0]          \n",
      "__________________________________________________________________________________________________\n",
      "conv4_block2_3_conv (Conv2D)    (None, 14, 14, 1024) 524288      conv4_block2_2_relu[0][0]        \n",
      "__________________________________________________________________________________________________\n",
      "conv4_block2_3_bn (BatchNormali (None, 14, 14, 1024) 4096        conv4_block2_3_conv[0][0]        \n",
      "__________________________________________________________________________________________________\n",
      "conv4_block2_add (Add)          (None, 14, 14, 1024) 0           conv4_block1_out[0][0]           \n",
      "                                                                 conv4_block2_3_bn[0][0]          \n",
      "__________________________________________________________________________________________________\n",
      "conv4_block2_out (Activation)   (None, 14, 14, 1024) 0           conv4_block2_add[0][0]           \n",
      "__________________________________________________________________________________________________\n",
      "conv4_block3_1_conv (Conv2D)    (None, 14, 14, 512)  524288      conv4_block2_out[0][0]           \n",
      "__________________________________________________________________________________________________\n",
      "conv4_block3_1_bn (BatchNormali (None, 14, 14, 512)  2048        conv4_block3_1_conv[0][0]        \n",
      "__________________________________________________________________________________________________\n",
      "conv4_block3_1_relu (Activation (None, 14, 14, 512)  0           conv4_block3_1_bn[0][0]          \n",
      "__________________________________________________________________________________________________\n",
      "conv4_block3_2_pad (ZeroPadding (None, 16, 16, 512)  0           conv4_block3_1_relu[0][0]        \n",
      "__________________________________________________________________________________________________\n",
      "conv4_block3_2_conv (DepthwiseC (None, 14, 14, 8192) 73728       conv4_block3_2_pad[0][0]         \n",
      "__________________________________________________________________________________________________\n",
      "reshape_19 (Reshape)            (None, 14, 14, 32, 1 0           conv4_block3_2_conv[0][0]        \n",
      "__________________________________________________________________________________________________\n",
      "conv4_block3_2_reduce (Lambda)  (None, 14, 14, 32, 1 0           reshape_19[0][0]                 \n",
      "__________________________________________________________________________________________________\n",
      "reshape_20 (Reshape)            (None, 14, 14, 512)  0           conv4_block3_2_reduce[0][0]      \n",
      "__________________________________________________________________________________________________\n",
      "conv4_block3_2_bn (BatchNormali (None, 14, 14, 512)  2048        reshape_20[0][0]                 \n",
      "__________________________________________________________________________________________________\n",
      "conv4_block3_2_relu (Activation (None, 14, 14, 512)  0           conv4_block3_2_bn[0][0]          \n",
      "__________________________________________________________________________________________________\n",
      "conv4_block3_3_conv (Conv2D)    (None, 14, 14, 1024) 524288      conv4_block3_2_relu[0][0]        \n",
      "__________________________________________________________________________________________________\n",
      "conv4_block3_3_bn (BatchNormali (None, 14, 14, 1024) 4096        conv4_block3_3_conv[0][0]        \n",
      "__________________________________________________________________________________________________\n",
      "conv4_block3_add (Add)          (None, 14, 14, 1024) 0           conv4_block2_out[0][0]           \n",
      "                                                                 conv4_block3_3_bn[0][0]          \n",
      "__________________________________________________________________________________________________\n",
      "conv4_block3_out (Activation)   (None, 14, 14, 1024) 0           conv4_block3_add[0][0]           \n",
      "__________________________________________________________________________________________________\n",
      "conv4_block4_1_conv (Conv2D)    (None, 14, 14, 512)  524288      conv4_block3_out[0][0]           \n",
      "__________________________________________________________________________________________________\n",
      "conv4_block4_1_bn (BatchNormali (None, 14, 14, 512)  2048        conv4_block4_1_conv[0][0]        \n",
      "__________________________________________________________________________________________________\n",
      "conv4_block4_1_relu (Activation (None, 14, 14, 512)  0           conv4_block4_1_bn[0][0]          \n",
      "__________________________________________________________________________________________________\n",
      "conv4_block4_2_pad (ZeroPadding (None, 16, 16, 512)  0           conv4_block4_1_relu[0][0]        \n",
      "__________________________________________________________________________________________________\n",
      "conv4_block4_2_conv (DepthwiseC (None, 14, 14, 8192) 73728       conv4_block4_2_pad[0][0]         \n",
      "__________________________________________________________________________________________________\n",
      "reshape_21 (Reshape)            (None, 14, 14, 32, 1 0           conv4_block4_2_conv[0][0]        \n",
      "__________________________________________________________________________________________________\n",
      "conv4_block4_2_reduce (Lambda)  (None, 14, 14, 32, 1 0           reshape_21[0][0]                 \n",
      "__________________________________________________________________________________________________\n",
      "reshape_22 (Reshape)            (None, 14, 14, 512)  0           conv4_block4_2_reduce[0][0]      \n",
      "__________________________________________________________________________________________________\n",
      "conv4_block4_2_bn (BatchNormali (None, 14, 14, 512)  2048        reshape_22[0][0]                 \n",
      "__________________________________________________________________________________________________\n",
      "conv4_block4_2_relu (Activation (None, 14, 14, 512)  0           conv4_block4_2_bn[0][0]          \n",
      "__________________________________________________________________________________________________\n",
      "conv4_block4_3_conv (Conv2D)    (None, 14, 14, 1024) 524288      conv4_block4_2_relu[0][0]        \n",
      "__________________________________________________________________________________________________\n",
      "conv4_block4_3_bn (BatchNormali (None, 14, 14, 1024) 4096        conv4_block4_3_conv[0][0]        \n",
      "__________________________________________________________________________________________________\n",
      "conv4_block4_add (Add)          (None, 14, 14, 1024) 0           conv4_block3_out[0][0]           \n",
      "                                                                 conv4_block4_3_bn[0][0]          \n",
      "__________________________________________________________________________________________________\n",
      "conv4_block4_out (Activation)   (None, 14, 14, 1024) 0           conv4_block4_add[0][0]           \n",
      "__________________________________________________________________________________________________\n",
      "conv4_block5_1_conv (Conv2D)    (None, 14, 14, 512)  524288      conv4_block4_out[0][0]           \n",
      "__________________________________________________________________________________________________\n",
      "conv4_block5_1_bn (BatchNormali (None, 14, 14, 512)  2048        conv4_block5_1_conv[0][0]        \n",
      "__________________________________________________________________________________________________\n",
      "conv4_block5_1_relu (Activation (None, 14, 14, 512)  0           conv4_block5_1_bn[0][0]          \n",
      "__________________________________________________________________________________________________\n",
      "conv4_block5_2_pad (ZeroPadding (None, 16, 16, 512)  0           conv4_block5_1_relu[0][0]        \n",
      "__________________________________________________________________________________________________\n",
      "conv4_block5_2_conv (DepthwiseC (None, 14, 14, 8192) 73728       conv4_block5_2_pad[0][0]         \n",
      "__________________________________________________________________________________________________\n",
      "reshape_23 (Reshape)            (None, 14, 14, 32, 1 0           conv4_block5_2_conv[0][0]        \n",
      "__________________________________________________________________________________________________\n",
      "conv4_block5_2_reduce (Lambda)  (None, 14, 14, 32, 1 0           reshape_23[0][0]                 \n",
      "__________________________________________________________________________________________________\n",
      "reshape_24 (Reshape)            (None, 14, 14, 512)  0           conv4_block5_2_reduce[0][0]      \n",
      "__________________________________________________________________________________________________\n",
      "conv4_block5_2_bn (BatchNormali (None, 14, 14, 512)  2048        reshape_24[0][0]                 \n",
      "__________________________________________________________________________________________________\n",
      "conv4_block5_2_relu (Activation (None, 14, 14, 512)  0           conv4_block5_2_bn[0][0]          \n",
      "__________________________________________________________________________________________________\n",
      "conv4_block5_3_conv (Conv2D)    (None, 14, 14, 1024) 524288      conv4_block5_2_relu[0][0]        \n",
      "__________________________________________________________________________________________________\n",
      "conv4_block5_3_bn (BatchNormali (None, 14, 14, 1024) 4096        conv4_block5_3_conv[0][0]        \n",
      "__________________________________________________________________________________________________\n",
      "conv4_block5_add (Add)          (None, 14, 14, 1024) 0           conv4_block4_out[0][0]           \n",
      "                                                                 conv4_block5_3_bn[0][0]          \n",
      "__________________________________________________________________________________________________\n",
      "conv4_block5_out (Activation)   (None, 14, 14, 1024) 0           conv4_block5_add[0][0]           \n",
      "__________________________________________________________________________________________________\n",
      "conv4_block6_1_conv (Conv2D)    (None, 14, 14, 512)  524288      conv4_block5_out[0][0]           \n",
      "__________________________________________________________________________________________________\n",
      "conv4_block6_1_bn (BatchNormali (None, 14, 14, 512)  2048        conv4_block6_1_conv[0][0]        \n",
      "__________________________________________________________________________________________________\n",
      "conv4_block6_1_relu (Activation (None, 14, 14, 512)  0           conv4_block6_1_bn[0][0]          \n",
      "__________________________________________________________________________________________________\n",
      "conv4_block6_2_pad (ZeroPadding (None, 16, 16, 512)  0           conv4_block6_1_relu[0][0]        \n",
      "__________________________________________________________________________________________________\n",
      "conv4_block6_2_conv (DepthwiseC (None, 14, 14, 8192) 73728       conv4_block6_2_pad[0][0]         \n",
      "__________________________________________________________________________________________________\n",
      "reshape_25 (Reshape)            (None, 14, 14, 32, 1 0           conv4_block6_2_conv[0][0]        \n",
      "__________________________________________________________________________________________________\n",
      "conv4_block6_2_reduce (Lambda)  (None, 14, 14, 32, 1 0           reshape_25[0][0]                 \n",
      "__________________________________________________________________________________________________\n",
      "reshape_26 (Reshape)            (None, 14, 14, 512)  0           conv4_block6_2_reduce[0][0]      \n",
      "__________________________________________________________________________________________________\n",
      "conv4_block6_2_bn (BatchNormali (None, 14, 14, 512)  2048        reshape_26[0][0]                 \n",
      "__________________________________________________________________________________________________\n",
      "conv4_block6_2_relu (Activation (None, 14, 14, 512)  0           conv4_block6_2_bn[0][0]          \n",
      "__________________________________________________________________________________________________\n",
      "conv4_block6_3_conv (Conv2D)    (None, 14, 14, 1024) 524288      conv4_block6_2_relu[0][0]        \n",
      "__________________________________________________________________________________________________\n",
      "conv4_block6_3_bn (BatchNormali (None, 14, 14, 1024) 4096        conv4_block6_3_conv[0][0]        \n",
      "__________________________________________________________________________________________________\n",
      "conv4_block6_add (Add)          (None, 14, 14, 1024) 0           conv4_block5_out[0][0]           \n",
      "                                                                 conv4_block6_3_bn[0][0]          \n",
      "__________________________________________________________________________________________________\n",
      "conv4_block6_out (Activation)   (None, 14, 14, 1024) 0           conv4_block6_add[0][0]           \n",
      "__________________________________________________________________________________________________\n",
      "conv5_block1_1_conv (Conv2D)    (None, 14, 14, 1024) 1048576     conv4_block6_out[0][0]           \n",
      "__________________________________________________________________________________________________\n",
      "conv5_block1_1_bn (BatchNormali (None, 14, 14, 1024) 4096        conv5_block1_1_conv[0][0]        \n",
      "__________________________________________________________________________________________________\n",
      "conv5_block1_1_relu (Activation (None, 14, 14, 1024) 0           conv5_block1_1_bn[0][0]          \n",
      "__________________________________________________________________________________________________\n",
      "conv5_block1_2_pad (ZeroPadding (None, 16, 16, 1024) 0           conv5_block1_1_relu[0][0]        \n",
      "__________________________________________________________________________________________________\n",
      "conv5_block1_2_conv (DepthwiseC (None, 7, 7, 32768)  294912      conv5_block1_2_pad[0][0]         \n",
      "__________________________________________________________________________________________________\n",
      "reshape_27 (Reshape)            (None, 7, 7, 32, 32, 0           conv5_block1_2_conv[0][0]        \n",
      "__________________________________________________________________________________________________\n",
      "conv5_block1_2_reduce (Lambda)  (None, 7, 7, 32, 32) 0           reshape_27[0][0]                 \n",
      "__________________________________________________________________________________________________\n",
      "reshape_28 (Reshape)            (None, 7, 7, 1024)   0           conv5_block1_2_reduce[0][0]      \n",
      "__________________________________________________________________________________________________\n",
      "conv5_block1_2_bn (BatchNormali (None, 7, 7, 1024)   4096        reshape_28[0][0]                 \n",
      "__________________________________________________________________________________________________\n",
      "conv5_block1_2_relu (Activation (None, 7, 7, 1024)   0           conv5_block1_2_bn[0][0]          \n",
      "__________________________________________________________________________________________________\n",
      "conv5_block1_0_conv (Conv2D)    (None, 7, 7, 2048)   2097152     conv4_block6_out[0][0]           \n",
      "__________________________________________________________________________________________________\n",
      "conv5_block1_3_conv (Conv2D)    (None, 7, 7, 2048)   2097152     conv5_block1_2_relu[0][0]        \n",
      "__________________________________________________________________________________________________\n",
      "conv5_block1_0_bn (BatchNormali (None, 7, 7, 2048)   8192        conv5_block1_0_conv[0][0]        \n",
      "__________________________________________________________________________________________________\n",
      "conv5_block1_3_bn (BatchNormali (None, 7, 7, 2048)   8192        conv5_block1_3_conv[0][0]        \n",
      "__________________________________________________________________________________________________\n",
      "conv5_block1_add (Add)          (None, 7, 7, 2048)   0           conv5_block1_0_bn[0][0]          \n",
      "                                                                 conv5_block1_3_bn[0][0]          \n",
      "__________________________________________________________________________________________________\n",
      "conv5_block1_out (Activation)   (None, 7, 7, 2048)   0           conv5_block1_add[0][0]           \n",
      "__________________________________________________________________________________________________\n",
      "conv5_block2_1_conv (Conv2D)    (None, 7, 7, 1024)   2097152     conv5_block1_out[0][0]           \n",
      "__________________________________________________________________________________________________\n",
      "conv5_block2_1_bn (BatchNormali (None, 7, 7, 1024)   4096        conv5_block2_1_conv[0][0]        \n",
      "__________________________________________________________________________________________________\n",
      "conv5_block2_1_relu (Activation (None, 7, 7, 1024)   0           conv5_block2_1_bn[0][0]          \n",
      "__________________________________________________________________________________________________\n",
      "conv5_block2_2_pad (ZeroPadding (None, 9, 9, 1024)   0           conv5_block2_1_relu[0][0]        \n",
      "__________________________________________________________________________________________________\n",
      "conv5_block2_2_conv (DepthwiseC (None, 7, 7, 32768)  294912      conv5_block2_2_pad[0][0]         \n",
      "__________________________________________________________________________________________________\n",
      "reshape_29 (Reshape)            (None, 7, 7, 32, 32, 0           conv5_block2_2_conv[0][0]        \n",
      "__________________________________________________________________________________________________\n",
      "conv5_block2_2_reduce (Lambda)  (None, 7, 7, 32, 32) 0           reshape_29[0][0]                 \n",
      "__________________________________________________________________________________________________\n",
      "reshape_30 (Reshape)            (None, 7, 7, 1024)   0           conv5_block2_2_reduce[0][0]      \n",
      "__________________________________________________________________________________________________\n",
      "conv5_block2_2_bn (BatchNormali (None, 7, 7, 1024)   4096        reshape_30[0][0]                 \n",
      "__________________________________________________________________________________________________\n",
      "conv5_block2_2_relu (Activation (None, 7, 7, 1024)   0           conv5_block2_2_bn[0][0]          \n",
      "__________________________________________________________________________________________________\n",
      "conv5_block2_3_conv (Conv2D)    (None, 7, 7, 2048)   2097152     conv5_block2_2_relu[0][0]        \n",
      "__________________________________________________________________________________________________\n",
      "conv5_block2_3_bn (BatchNormali (None, 7, 7, 2048)   8192        conv5_block2_3_conv[0][0]        \n",
      "__________________________________________________________________________________________________\n",
      "conv5_block2_add (Add)          (None, 7, 7, 2048)   0           conv5_block1_out[0][0]           \n",
      "                                                                 conv5_block2_3_bn[0][0]          \n",
      "__________________________________________________________________________________________________\n",
      "conv5_block2_out (Activation)   (None, 7, 7, 2048)   0           conv5_block2_add[0][0]           \n",
      "__________________________________________________________________________________________________\n",
      "conv5_block3_1_conv (Conv2D)    (None, 7, 7, 1024)   2097152     conv5_block2_out[0][0]           \n",
      "__________________________________________________________________________________________________\n",
      "conv5_block3_1_bn (BatchNormali (None, 7, 7, 1024)   4096        conv5_block3_1_conv[0][0]        \n",
      "__________________________________________________________________________________________________\n",
      "conv5_block3_1_relu (Activation (None, 7, 7, 1024)   0           conv5_block3_1_bn[0][0]          \n",
      "__________________________________________________________________________________________________\n",
      "conv5_block3_2_pad (ZeroPadding (None, 9, 9, 1024)   0           conv5_block3_1_relu[0][0]        \n",
      "__________________________________________________________________________________________________\n",
      "conv5_block3_2_conv (DepthwiseC (None, 7, 7, 32768)  294912      conv5_block3_2_pad[0][0]         \n",
      "__________________________________________________________________________________________________\n",
      "reshape_31 (Reshape)            (None, 7, 7, 32, 32, 0           conv5_block3_2_conv[0][0]        \n",
      "__________________________________________________________________________________________________\n",
      "conv5_block3_2_reduce (Lambda)  (None, 7, 7, 32, 32) 0           reshape_31[0][0]                 \n",
      "__________________________________________________________________________________________________\n",
      "reshape_32 (Reshape)            (None, 7, 7, 1024)   0           conv5_block3_2_reduce[0][0]      \n",
      "__________________________________________________________________________________________________\n",
      "conv5_block3_2_bn (BatchNormali (None, 7, 7, 1024)   4096        reshape_32[0][0]                 \n",
      "__________________________________________________________________________________________________\n",
      "conv5_block3_2_relu (Activation (None, 7, 7, 1024)   0           conv5_block3_2_bn[0][0]          \n",
      "__________________________________________________________________________________________________\n",
      "conv5_block3_3_conv (Conv2D)    (None, 7, 7, 2048)   2097152     conv5_block3_2_relu[0][0]        \n",
      "__________________________________________________________________________________________________\n",
      "conv5_block3_3_bn (BatchNormali (None, 7, 7, 2048)   8192        conv5_block3_3_conv[0][0]        \n",
      "__________________________________________________________________________________________________\n",
      "conv5_block3_add (Add)          (None, 7, 7, 2048)   0           conv5_block2_out[0][0]           \n",
      "                                                                 conv5_block3_3_bn[0][0]          \n",
      "__________________________________________________________________________________________________\n",
      "conv5_block3_out (Activation)   (None, 7, 7, 2048)   0           conv5_block3_add[0][0]           \n",
      "==================================================================================================\n",
      "Total params: 23,048,128\n",
      "Trainable params: 22,979,904\n",
      "Non-trainable params: 68,224\n",
      "__________________________________________________________________________________________________\n"
     ]
    }
   ],
   "source": [
    "conv_base.summary()"
   ]
  },
  {
   "cell_type": "code",
   "execution_count": 7,
   "metadata": {
    "colab": {
     "base_uri": "https://localhost:8080/",
     "height": 286
    },
    "colab_type": "code",
    "executionInfo": {
     "elapsed": 6298,
     "status": "ok",
     "timestamp": 1586090899567,
     "user": {
      "displayName": "廖柄淦",
      "photoUrl": "https://lh3.googleusercontent.com/a-/AOh14GjZP21bMdjnp7AGGchu-PjXO1U_qXi0fI574q6H=s64",
      "userId": "05650689681420335783"
     },
     "user_tz": -480
    },
    "id": "B5w1fn54LHx2",
    "outputId": "dfbb959c-df0c-44a0-de27-c5ed767836df"
   },
   "outputs": [
    {
     "name": "stdout",
     "output_type": "stream",
     "text": [
      "Model: \"sequential_1\"\n",
      "_________________________________________________________________\n",
      "Layer (type)                 Output Shape              Param #   \n",
      "=================================================================\n",
      "resnext50 (Model)            (None, 7, 7, 2048)        23048128  \n",
      "_________________________________________________________________\n",
      "flatten_1 (Flatten)          (None, 100352)            0         \n",
      "_________________________________________________________________\n",
      "dense_1 (Dense)              (None, 128)               12845184  \n",
      "_________________________________________________________________\n",
      "dense_2 (Dense)              (None, 3)                 387       \n",
      "=================================================================\n",
      "Total params: 35,893,699\n",
      "Trainable params: 17,342,979\n",
      "Non-trainable params: 18,550,720\n",
      "_________________________________________________________________\n"
     ]
    }
   ],
   "source": [
    "#Freeze all layers\n",
    "for layer in conv_base.layers:\n",
    "  layer.trainable = False\n",
    "\n",
    "#Make some layer be trainable\n",
    "conv_base.get_layer('conv5_block3_1_conv').trainable = True\n",
    "conv_base.get_layer('conv5_block3_1_bn').trainable = True\n",
    "conv_base.get_layer('conv5_block3_2_conv').trainable = True\n",
    "conv_base.get_layer('conv5_block3_2_bn').trainable = True\n",
    "conv_base.get_layer('conv5_block3_3_conv').trainable = True\n",
    "conv_base.get_layer('conv5_block3_3_bn').trainable = True\n",
    "\n",
    "model.add(conv_base)\n",
    "model.add(layers.Flatten())\n",
    "model.add(layers.Dense(128, activation='relu', kernel_initializer='he_uniform'))\n",
    "model.add(layers.Dense(3, activation='sigmoid'))\n",
    "\n",
    "model.summary()"
   ]
  },
  {
   "cell_type": "code",
   "execution_count": 8,
   "metadata": {
    "colab": {
     "base_uri": "https://localhost:8080/",
     "height": 154
    },
    "colab_type": "code",
    "executionInfo": {
     "elapsed": 582,
     "status": "ok",
     "timestamp": 1586090903246,
     "user": {
      "displayName": "廖柄淦",
      "photoUrl": "https://lh3.googleusercontent.com/a-/AOh14GjZP21bMdjnp7AGGchu-PjXO1U_qXi0fI574q6H=s64",
      "userId": "05650689681420335783"
     },
     "user_tz": -480
    },
    "id": "PYZy1wowMF1y",
    "outputId": "fdc6e1aa-d53a-4815-e98a-14736e0d6848"
   },
   "outputs": [
    {
     "name": "stdout",
     "output_type": "stream",
     "text": [
      "WARNING:tensorflow:From /usr/local/lib/python3.6/dist-packages/keras/optimizers.py:793: The name tf.train.Optimizer is deprecated. Please use tf.compat.v1.train.Optimizer instead.\n",
      "\n",
      "WARNING:tensorflow:From /usr/local/lib/python3.6/dist-packages/keras/backend/tensorflow_backend.py:3657: The name tf.log is deprecated. Please use tf.math.log instead.\n",
      "\n",
      "WARNING:tensorflow:From /tensorflow-1.15.2/python3.6/tensorflow_core/python/ops/nn_impl.py:183: where (from tensorflow.python.ops.array_ops) is deprecated and will be removed in a future version.\n",
      "Instructions for updating:\n",
      "Use tf.where in 2.0, which has the same broadcast rule as np.where\n"
     ]
    }
   ],
   "source": [
    "opt = optimizers.SGD(lr=0.01, momentum=0.9)\n",
    "model.compile(optimizer=opt, loss='binary_crossentropy', metrics=['acc'])"
   ]
  },
  {
   "cell_type": "markdown",
   "metadata": {
    "colab_type": "text",
    "id": "IZnReEWeOAZD"
   },
   "source": [
    "# **Prepare dataset**"
   ]
  },
  {
   "cell_type": "code",
   "execution_count": 9,
   "metadata": {
    "colab": {
     "base_uri": "https://localhost:8080/",
     "height": 34
    },
    "colab_type": "code",
    "executionInfo": {
     "elapsed": 25997,
     "status": "ok",
     "timestamp": 1586090931443,
     "user": {
      "displayName": "廖柄淦",
      "photoUrl": "https://lh3.googleusercontent.com/a-/AOh14GjZP21bMdjnp7AGGchu-PjXO1U_qXi0fI574q6H=s64",
      "userId": "05650689681420335783"
     },
     "user_tz": -480
    },
    "id": "1PD6zZNUN_2T",
    "outputId": "f0dc3cdb-ac7d-4294-9384-06135a9d9c08"
   },
   "outputs": [
    {
     "name": "stdout",
     "output_type": "stream",
     "text": [
      "Loaded shape:  (5600, 224, 224, 3) (5600, 3)\n"
     ]
    }
   ],
   "source": [
    "data = np.load('/content/gdrive/My Drive/TA/1082/mango_train_planet_data.npz')\n",
    "X, Y = data['arr_0'], data['arr_1']\n",
    "print('Loaded shape: ', X.shape, Y.shape)"
   ]
  },
  {
   "cell_type": "code",
   "execution_count": 10,
   "metadata": {
    "colab": {
     "base_uri": "https://localhost:8080/",
     "height": 34
    },
    "colab_type": "code",
    "executionInfo": {
     "elapsed": 2201,
     "status": "ok",
     "timestamp": 1586090933652,
     "user": {
      "displayName": "廖柄淦",
      "photoUrl": "https://lh3.googleusercontent.com/a-/AOh14GjZP21bMdjnp7AGGchu-PjXO1U_qXi0fI574q6H=s64",
      "userId": "05650689681420335783"
     },
     "user_tz": -480
    },
    "id": "atHp7B9lN_4r",
    "outputId": "52fed564-c308-4ef1-e467-e5ddef3261f6"
   },
   "outputs": [
    {
     "name": "stdout",
     "output_type": "stream",
     "text": [
      "(4480, 224, 224, 3) (4480, 3) (1120, 224, 224, 3) (1120, 3)\n"
     ]
    }
   ],
   "source": [
    "trainX, testX, trainY, testY = train_test_split(X, Y, test_size=0.2, random_state=1)\n",
    "print(trainX.shape, trainY.shape, testX.shape, testY.shape)"
   ]
  },
  {
   "cell_type": "code",
   "execution_count": 0,
   "metadata": {
    "colab": {},
    "colab_type": "code",
    "id": "L7d6_6c3N_68"
   },
   "outputs": [],
   "source": [
    "train_datagen = ImageDataGenerator(rescale=1.0/255.0, rotation_range=15, featurewise_center=True, horizontal_flip=True)\n",
    "train_datagen.mean = [0.485, 0.456, 0.406]\n",
    "\n",
    "test_datagen = ImageDataGenerator(rescale=1.0/255.0, featurewise_center=True)\n",
    "test_datagen.mean = [0.485, 0.456, 0.406]\n",
    "\n",
    "train_it = train_datagen.flow(trainX, trainY, batch_size=64)\n",
    "test_it = test_datagen.flow(testX, testY, batch_size=64)"
   ]
  },
  {
   "cell_type": "markdown",
   "metadata": {
    "colab_type": "text",
    "id": "7ZMFz_UVOQuB"
   },
   "source": [
    "# **Train model**"
   ]
  },
  {
   "cell_type": "code",
   "execution_count": 0,
   "metadata": {
    "colab": {},
    "colab_type": "code",
    "id": "tB6vt1U8N_9X"
   },
   "outputs": [],
   "source": [
    "early_stopping = EarlyStopping(monitor='val_loss', patience=10, verbose=1)\n",
    "checkpoint = ModelCheckpoint('/content/gdrive/My Drive/TA/1082/TestCNN4_weights.h5', monitor='val_loss', verbose=1, save_best_only=True, save_weights_only=True, period=1)"
   ]
  },
  {
   "cell_type": "code",
   "execution_count": 13,
   "metadata": {
    "colab": {
     "base_uri": "https://localhost:8080/",
     "height": 961
    },
    "colab_type": "code",
    "executionInfo": {
     "elapsed": 800430,
     "status": "ok",
     "timestamp": 1586091731903,
     "user": {
      "displayName": "廖柄淦",
      "photoUrl": "https://lh3.googleusercontent.com/a-/AOh14GjZP21bMdjnp7AGGchu-PjXO1U_qXi0fI574q6H=s64",
      "userId": "05650689681420335783"
     },
     "user_tz": -480
    },
    "id": "BPrNqzvuOX4J",
    "outputId": "9b83854c-c626-4407-f4d0-080d92f5c729"
   },
   "outputs": [
    {
     "name": "stdout",
     "output_type": "stream",
     "text": [
      "WARNING:tensorflow:From /usr/local/lib/python3.6/dist-packages/keras/backend/tensorflow_backend.py:1033: The name tf.assign_add is deprecated. Please use tf.compat.v1.assign_add instead.\n",
      "\n",
      "WARNING:tensorflow:From /usr/local/lib/python3.6/dist-packages/keras/backend/tensorflow_backend.py:1020: The name tf.assign is deprecated. Please use tf.compat.v1.assign instead.\n",
      "\n",
      "Epoch 1/100\n",
      "70/70 [==============================] - 79s 1s/step - loss: 0.5430 - acc: 0.7484 - val_loss: 0.8413 - val_acc: 0.6265\n",
      "\n",
      "Epoch 00001: val_loss improved from inf to 0.84135, saving model to /content/gdrive/My Drive/TA/1082/TestCNN4_weights.h5\n",
      "Epoch 2/100\n",
      "70/70 [==============================] - 63s 905ms/step - loss: 0.3621 - acc: 0.8338 - val_loss: 0.4420 - val_acc: 0.7875\n",
      "\n",
      "Epoch 00002: val_loss improved from 0.84135 to 0.44200, saving model to /content/gdrive/My Drive/TA/1082/TestCNN4_weights.h5\n",
      "Epoch 3/100\n",
      "70/70 [==============================] - 65s 934ms/step - loss: 0.3186 - acc: 0.8631 - val_loss: 0.6582 - val_acc: 0.6955\n",
      "\n",
      "Epoch 00003: val_loss did not improve from 0.44200\n",
      "Epoch 4/100\n",
      "70/70 [==============================] - 65s 928ms/step - loss: 0.2961 - acc: 0.8726 - val_loss: 0.9101 - val_acc: 0.6408\n",
      "\n",
      "Epoch 00004: val_loss did not improve from 0.44200\n",
      "Epoch 5/100\n",
      "70/70 [==============================] - 65s 930ms/step - loss: 0.2838 - acc: 0.8757 - val_loss: 0.6845 - val_acc: 0.6789\n",
      "\n",
      "Epoch 00005: val_loss did not improve from 0.44200\n",
      "Epoch 6/100\n",
      "70/70 [==============================] - 65s 935ms/step - loss: 0.2272 - acc: 0.9024 - val_loss: 0.5370 - val_acc: 0.7872\n",
      "\n",
      "Epoch 00006: val_loss did not improve from 0.44200\n",
      "Epoch 7/100\n",
      "70/70 [==============================] - 65s 932ms/step - loss: 0.2158 - acc: 0.9083 - val_loss: 0.5252 - val_acc: 0.7625\n",
      "\n",
      "Epoch 00007: val_loss did not improve from 0.44200\n",
      "Epoch 8/100\n",
      "70/70 [==============================] - 65s 926ms/step - loss: 0.1917 - acc: 0.9225 - val_loss: 0.7505 - val_acc: 0.7068\n",
      "\n",
      "Epoch 00008: val_loss did not improve from 0.44200\n",
      "Epoch 9/100\n",
      "70/70 [==============================] - 65s 925ms/step - loss: 0.1569 - acc: 0.9344 - val_loss: 1.0003 - val_acc: 0.7092\n",
      "\n",
      "Epoch 00009: val_loss did not improve from 0.44200\n",
      "Epoch 10/100\n",
      "70/70 [==============================] - 65s 924ms/step - loss: 0.1399 - acc: 0.9421 - val_loss: 0.7999 - val_acc: 0.7548\n",
      "\n",
      "Epoch 00010: val_loss did not improve from 0.44200\n",
      "Epoch 11/100\n",
      "70/70 [==============================] - 65s 926ms/step - loss: 0.1442 - acc: 0.9446 - val_loss: 0.7991 - val_acc: 0.7223\n",
      "\n",
      "Epoch 00011: val_loss did not improve from 0.44200\n",
      "Epoch 12/100\n",
      "70/70 [==============================] - 65s 926ms/step - loss: 0.1266 - acc: 0.9499 - val_loss: 0.6209 - val_acc: 0.7509\n",
      "\n",
      "Epoch 00012: val_loss did not improve from 0.44200\n",
      "Epoch 00012: early stopping\n",
      "CPU times: user 16min 10s, sys: 55 s, total: 17min 5s\n",
      "Wall time: 13min 18s\n"
     ]
    }
   ],
   "source": [
    "%%time\n",
    "history = model.fit_generator(train_it, steps_per_epoch=len(train_it), epochs=100, validation_data=test_it, validation_steps=len(test_it), callbacks=[checkpoint, early_stopping])"
   ]
  },
  {
   "cell_type": "markdown",
   "metadata": {
    "colab_type": "text",
    "id": "40xf-h7cPZqu"
   },
   "source": [
    "# **Save and draw**"
   ]
  },
  {
   "cell_type": "code",
   "execution_count": 0,
   "metadata": {
    "colab": {},
    "colab_type": "code",
    "id": "obrZknKoPW-x"
   },
   "outputs": [],
   "source": [
    "model.save('/content/gdrive/My Drive/TA/1082/TestCNN4.h5')"
   ]
  },
  {
   "cell_type": "code",
   "execution_count": 15,
   "metadata": {
    "colab": {
     "base_uri": "https://localhost:8080/",
     "height": 545
    },
    "colab_type": "code",
    "executionInfo": {
     "elapsed": 3623,
     "status": "ok",
     "timestamp": 1586091735543,
     "user": {
      "displayName": "廖柄淦",
      "photoUrl": "https://lh3.googleusercontent.com/a-/AOh14GjZP21bMdjnp7AGGchu-PjXO1U_qXi0fI574q6H=s64",
      "userId": "05650689681420335783"
     },
     "user_tz": -480
    },
    "id": "hd3KWW3mPXSd",
    "outputId": "e1fe94a8-0426-486a-c048-3147b505e9e3"
   },
   "outputs": [
    {
     "data": {
      "image/png": "[encoded data removed]",
      "text/plain": [
       "<Figure size 432x288 with 1 Axes>"
      ]
     },
     "metadata": {
      "tags": []
     },
     "output_type": "display_data"
    },
    {
     "data": {
      "image/png": "[encoded data removed]",
      "text/plain": [
       "<Figure size 432x288 with 1 Axes>"
      ]
     },
     "metadata": {
      "tags": []
     },
     "output_type": "display_data"
    }
   ],
   "source": [
    "train_acc = history.history['acc']\n",
    "val_acc = history.history['val_acc']\n",
    "train_loss = history.history['loss']\n",
    "val_loss = history.history['val_loss']\n",
    "epochs = range(1, len(train_acc) + 1)\n",
    "\n",
    "plt.plot(epochs, train_acc, 'b', label='Training acc')\n",
    "plt.plot(epochs, val_acc, 'r', label='Validation acc')\n",
    "plt.title('Training and validation accuracy')\n",
    "plt.legend()\n",
    "plt.savefig('/content/gdrive/My Drive/TA/1082/ResNeXt50-accuracy.png')\n",
    "\n",
    "plt.figure()\n",
    "\n",
    "plt.plot(epochs, train_loss, 'b', label='Training loss')\n",
    "plt.plot(epochs, val_loss, 'r', label='Validation loss')\n",
    "plt.title('Training and validation loss')\n",
    "plt.legend()\n",
    "plt.savefig('/content/gdrive/My Drive/TA/1082/ResNeXt50-loss.png')\n",
    "\n",
    "plt.show()"
   ]
  },
  {
   "cell_type": "markdown",
   "metadata": {
    "colab_type": "text",
    "id": "Th0-KpJBPmcD"
   },
   "source": [
    "# **Evaluate and predict**"
   ]
  },
  {
   "cell_type": "code",
   "execution_count": 16,
   "metadata": {
    "colab": {
     "base_uri": "https://localhost:8080/",
     "height": 34
    },
    "colab_type": "code",
    "executionInfo": {
     "elapsed": 5195,
     "status": "ok",
     "timestamp": 1586091903043,
     "user": {
      "displayName": "廖柄淦",
      "photoUrl": "https://lh3.googleusercontent.com/a-/AOh14GjZP21bMdjnp7AGGchu-PjXO1U_qXi0fI574q6H=s64",
      "userId": "05650689681420335783"
     },
     "user_tz": -480
    },
    "id": "ub3hbvEFPXhe",
    "outputId": "3137cb95-8860-44af-d4ea-e3e4084a63a9"
   },
   "outputs": [
    {
     "name": "stdout",
     "output_type": "stream",
     "text": [
      "Loaded shape:  (800, 224, 224, 3) (800, 3)\n"
     ]
    }
   ],
   "source": [
    "#Load dev dataset\n",
    "data = np.load('/content/gdrive/My Drive/TA/1082/mango_dev_planet_data.npz')\n",
    "X, Y = data['arr_0'], data['arr_1']\n",
    "print('Loaded shape: ', X.shape, Y.shape)"
   ]
  },
  {
   "cell_type": "code",
   "execution_count": 0,
   "metadata": {
    "colab": {},
    "colab_type": "code",
    "id": "JaqVXAabPXot"
   },
   "outputs": [],
   "source": [
    "#Load model\n",
    "model = models.load_model('/content/gdrive/My Drive/TA/1082/TestCNN4.h5')"
   ]
  },
  {
   "cell_type": "code",
   "execution_count": 0,
   "metadata": {
    "colab": {},
    "colab_type": "code",
    "id": "EKm5ptuVPXwv"
   },
   "outputs": [],
   "source": [
    "#Load model weights\n",
    "model.load_weights('/content/gdrive/My Drive/TA/1082/TestCNN4_weights.h5')"
   ]
  },
  {
   "cell_type": "code",
   "execution_count": 19,
   "metadata": {
    "colab": {
     "base_uri": "https://localhost:8080/",
     "height": 1000
    },
    "colab_type": "code",
    "executionInfo": {
     "elapsed": 6789,
     "status": "ok",
     "timestamp": 1586091941845,
     "user": {
      "displayName": "廖柄淦",
      "photoUrl": "https://lh3.googleusercontent.com/a-/AOh14GjZP21bMdjnp7AGGchu-PjXO1U_qXi0fI574q6H=s64",
      "userId": "05650689681420335783"
     },
     "user_tz": -480
    },
    "id": "L_JC2QrcPyTN",
    "outputId": "e460da49-e28f-47cd-cd1a-0c492a6577f4"
   },
   "outputs": [
    {
     "name": "stdout",
     "output_type": "stream",
     "text": [
      "[[[[0.34509805 0.3647059  0.3764706 ]\n",
      "   [0.3254902  0.34509805 0.35686275]\n",
      "   [0.32941177 0.34901962 0.36078432]\n",
      "   ...\n",
      "   [0.38039216 0.3137255  0.09411765]\n",
      "   [0.3882353  0.32156864 0.10196079]\n",
      "   [0.38431373 0.31764707 0.09803922]]\n",
      "\n",
      "  [[0.34117648 0.36078432 0.37254903]\n",
      "   [0.3254902  0.34509805 0.35686275]\n",
      "   [0.33333334 0.3529412  0.3647059 ]\n",
      "   ...\n",
      "   [0.4        0.30980393 0.09803922]\n",
      "   [0.40784314 0.31764707 0.10588235]\n",
      "   [0.39607844 0.30588236 0.09411765]]\n",
      "\n",
      "  [[0.32156864 0.3529412  0.36078432]\n",
      "   [0.31764707 0.34901962 0.35686275]\n",
      "   [0.29411766 0.3254902  0.33333334]\n",
      "   ...\n",
      "   [0.44705883 0.36078432 0.13333334]\n",
      "   [0.43529412 0.34901962 0.12156863]\n",
      "   [0.4117647  0.3254902  0.09803922]]\n",
      "\n",
      "  ...\n",
      "\n",
      "  [[0.56078434 0.5411765  0.5294118 ]\n",
      "   [0.5686275  0.54901963 0.5372549 ]\n",
      "   [0.5764706  0.5568628  0.54509807]\n",
      "   ...\n",
      "   [0.5529412  0.654902   0.65882355]\n",
      "   [0.5294118  0.6313726  0.63529414]\n",
      "   [0.50980395 0.6117647  0.6156863 ]]\n",
      "\n",
      "  [[0.57254905 0.5372549  0.5176471 ]\n",
      "   [0.5921569  0.5529412  0.54509807]\n",
      "   [0.62352943 0.58431375 0.5882353 ]\n",
      "   ...\n",
      "   [0.50980395 0.6117647  0.6156863 ]\n",
      "   [0.49019608 0.5921569  0.59607846]\n",
      "   [0.4745098  0.5764706  0.5803922 ]]\n",
      "\n",
      "  [[0.5568628  0.52156866 0.4862745 ]\n",
      "   [0.56078434 0.5254902  0.49803922]\n",
      "   [0.5921569  0.5529412  0.54509807]\n",
      "   ...\n",
      "   [0.5019608  0.58431375 0.59607846]\n",
      "   [0.48235294 0.5647059  0.5764706 ]\n",
      "   [0.4745098  0.5568628  0.5686275 ]]]\n",
      "\n",
      "\n",
      " [[[0.45490196 0.33333334 0.45882353]\n",
      "   [0.49411765 0.37254903 0.49411765]\n",
      "   [0.5019608  0.37254903 0.4862745 ]\n",
      "   ...\n",
      "   [0.00784314 0.00784314 0.00784314]\n",
      "   [0.00784314 0.00784314 0.00784314]\n",
      "   [0.00784314 0.00784314 0.00784314]]\n",
      "\n",
      "  [[0.4117647  0.32156864 0.43529412]\n",
      "   [0.61960787 0.5176471  0.6313726 ]\n",
      "   [0.4862745  0.36862746 0.47843137]\n",
      "   ...\n",
      "   [0.00784314 0.00784314 0.00784314]\n",
      "   [0.00784314 0.00784314 0.00784314]\n",
      "   [0.00784314 0.00784314 0.00784314]]\n",
      "\n",
      "  [[0.4392157  0.36078432 0.47058824]\n",
      "   [0.54901963 0.42745098 0.54901963]\n",
      "   [0.50980395 0.35686275 0.47843137]\n",
      "   ...\n",
      "   [0.00784314 0.00784314 0.00784314]\n",
      "   [0.00784314 0.00784314 0.00784314]\n",
      "   [0.00784314 0.00784314 0.00784314]]\n",
      "\n",
      "  ...\n",
      "\n",
      "  [[0.10980392 0.10588235 0.13725491]\n",
      "   [0.11372549 0.10980392 0.13333334]\n",
      "   [0.07450981 0.07058824 0.09019608]\n",
      "   ...\n",
      "   [0.6039216  0.5019608  0.54509807]\n",
      "   [0.6039216  0.5019608  0.54509807]\n",
      "   [0.60784316 0.5058824  0.54901963]]\n",
      "\n",
      "  [[0.10196079 0.09803922 0.12156863]\n",
      "   [0.01960784 0.01960784 0.02745098]\n",
      "   [0.         0.         0.        ]\n",
      "   ...\n",
      "   [0.6117647  0.50980395 0.5529412 ]\n",
      "   [0.6117647  0.50980395 0.5529412 ]\n",
      "   [0.60784316 0.5058824  0.54901963]]\n",
      "\n",
      "  [[0.         0.         0.01568628]\n",
      "   [0.         0.         0.00784314]\n",
      "   [0.00392157 0.00392157 0.        ]\n",
      "   ...\n",
      "   [0.61960787 0.5176471  0.56078434]\n",
      "   [0.61960787 0.5176471  0.56078434]\n",
      "   [0.6156863  0.5137255  0.5568628 ]]]\n",
      "\n",
      "\n",
      " [[[0.6509804  0.6392157  0.5803922 ]\n",
      "   [0.65882355 0.64705884 0.5882353 ]\n",
      "   [0.6509804  0.6392157  0.5803922 ]\n",
      "   ...\n",
      "   [0.7411765  0.73333335 0.68235296]\n",
      "   [0.73333335 0.7254902  0.6745098 ]\n",
      "   [0.7372549  0.7294118  0.6784314 ]]\n",
      "\n",
      "  [[0.65882355 0.64705884 0.5882353 ]\n",
      "   [0.654902   0.6431373  0.58431375]\n",
      "   [0.63529414 0.62352943 0.5647059 ]\n",
      "   ...\n",
      "   [0.74509805 0.7372549  0.6862745 ]\n",
      "   [0.73333335 0.7254902  0.6745098 ]\n",
      "   [0.7490196  0.7411765  0.6901961 ]]\n",
      "\n",
      "  [[0.654902   0.6431373  0.58431375]\n",
      "   [0.6509804  0.6392157  0.5803922 ]\n",
      "   [0.63529414 0.62352943 0.5647059 ]\n",
      "   ...\n",
      "   [0.73333335 0.7254902  0.6745098 ]\n",
      "   [0.7490196  0.7411765  0.6901961 ]\n",
      "   [0.7411765  0.73333335 0.68235296]]\n",
      "\n",
      "  ...\n",
      "\n",
      "  [[0.13333334 0.5137255  0.83137256]\n",
      "   [0.11372549 0.5019608  0.81960785]\n",
      "   [0.07450981 0.47843137 0.7882353 ]\n",
      "   ...\n",
      "   [0.79607844 0.5764706  0.5254902 ]\n",
      "   [0.7764706  0.5568628  0.5058824 ]\n",
      "   [0.7647059  0.54509807 0.49411765]]\n",
      "\n",
      "  [[0.10980392 0.49019608 0.80784315]\n",
      "   [0.10196079 0.49019608 0.80784315]\n",
      "   [0.07058824 0.4745098  0.78431374]\n",
      "   ...\n",
      "   [0.7607843  0.5411765  0.49019608]\n",
      "   [0.7411765  0.52156866 0.47058824]\n",
      "   [0.7411765  0.52156866 0.47058824]]\n",
      "\n",
      "  [[0.09019608 0.47058824 0.7882353 ]\n",
      "   [0.08235294 0.47058824 0.7882353 ]\n",
      "   [0.09411765 0.49803922 0.80784315]\n",
      "   ...\n",
      "   [0.7647059  0.54509807 0.49411765]\n",
      "   [0.7372549  0.5176471  0.46666667]\n",
      "   [0.7019608  0.48235294 0.43137255]]]\n",
      "\n",
      "\n",
      " ...\n",
      "\n",
      "\n",
      " [[[0.5568628  0.5764706  0.56078434]\n",
      "   [0.5764706  0.5921569  0.5882353 ]\n",
      "   [0.5921569  0.60784316 0.61960787]\n",
      "   ...\n",
      "   [0.58431375 0.5882353  0.6039216 ]\n",
      "   [0.5882353  0.5921569  0.60784316]\n",
      "   [0.57254905 0.5764706  0.5921569 ]]\n",
      "\n",
      "  [[0.5764706  0.59607846 0.5803922 ]\n",
      "   [0.58431375 0.6        0.59607846]\n",
      "   [0.5921569  0.60784316 0.61960787]\n",
      "   ...\n",
      "   [0.58431375 0.5882353  0.6039216 ]\n",
      "   [0.5803922  0.58431375 0.6       ]\n",
      "   [0.5647059  0.5686275  0.58431375]]\n",
      "\n",
      "  [[0.5803922  0.6156863  0.59607846]\n",
      "   [0.5882353  0.62352943 0.6117647 ]\n",
      "   [0.5882353  0.61960787 0.627451  ]\n",
      "   ...\n",
      "   [0.5921569  0.59607846 0.6117647 ]\n",
      "   [0.5764706  0.5803922  0.59607846]\n",
      "   [0.56078434 0.5647059  0.5803922 ]]\n",
      "\n",
      "  ...\n",
      "\n",
      "  [[0.654902   0.2627451  0.4745098 ]\n",
      "   [0.6392157  0.24313726 0.47058824]\n",
      "   [0.6431373  0.24705882 0.48235294]\n",
      "   ...\n",
      "   [0.14117648 0.07843138 0.07843138]\n",
      "   [0.14117648 0.07843138 0.07843138]\n",
      "   [0.14901961 0.08627451 0.08627451]]\n",
      "\n",
      "  [[0.64705884 0.24313726 0.45882353]\n",
      "   [0.6666667  0.25882354 0.49019608]\n",
      "   [0.654902   0.24705882 0.4862745 ]\n",
      "   ...\n",
      "   [0.14509805 0.08235294 0.08235294]\n",
      "   [0.13333334 0.07058824 0.07058824]\n",
      "   [0.14509805 0.08235294 0.08235294]]\n",
      "\n",
      "  [[0.6039216  0.19215687 0.4117647 ]\n",
      "   [0.6509804  0.23921569 0.47058824]\n",
      "   [0.6666667  0.2509804  0.49411765]\n",
      "   ...\n",
      "   [0.14117648 0.07843138 0.07843138]\n",
      "   [0.14901961 0.08627451 0.08627451]\n",
      "   [0.14117648 0.07843138 0.07843138]]]\n",
      "\n",
      "\n",
      " [[[0.60784316 0.5882353  0.5647059 ]\n",
      "   [0.5686275  0.54901963 0.5254902 ]\n",
      "   [0.52156866 0.5019608  0.47843137]\n",
      "   ...\n",
      "   [0.69411767 0.24313726 0.27058825]\n",
      "   [0.72156864 0.26666668 0.2784314 ]\n",
      "   [0.7529412  0.28235295 0.2901961 ]]\n",
      "\n",
      "  [[0.6117647  0.5921569  0.5686275 ]\n",
      "   [0.5568628  0.5372549  0.5137255 ]\n",
      "   [0.49803922 0.47843137 0.45490196]\n",
      "   ...\n",
      "   [0.6901961  0.23921569 0.25882354]\n",
      "   [0.73333335 0.2784314  0.28235295]\n",
      "   [0.75686276 0.28627452 0.2901961 ]]\n",
      "\n",
      "  [[0.6        0.5803922  0.5568628 ]\n",
      "   [0.5411765  0.52156866 0.49803922]\n",
      "   [0.49411765 0.4745098  0.4509804 ]\n",
      "   ...\n",
      "   [0.7019608  0.2509804  0.2627451 ]\n",
      "   [0.7294118  0.27450982 0.27450982]\n",
      "   [0.7647059  0.29411766 0.2901961 ]]\n",
      "\n",
      "  ...\n",
      "\n",
      "  [[0.5921569  0.5921569  0.56078434]\n",
      "   [0.59607846 0.5921569  0.5764706 ]\n",
      "   [0.61960787 0.6156863  0.60784316]\n",
      "   ...\n",
      "   [0.8627451  0.627451   0.58431375]\n",
      "   [0.8745098  0.64705884 0.6       ]\n",
      "   [0.8666667  0.65882355 0.6039216 ]]\n",
      "\n",
      "  [[0.5686275  0.5686275  0.5372549 ]\n",
      "   [0.59607846 0.5921569  0.5764706 ]\n",
      "   [0.61960787 0.6156863  0.60784316]\n",
      "   ...\n",
      "   [0.85882354 0.62352943 0.5803922 ]\n",
      "   [0.8666667  0.6392157  0.5921569 ]\n",
      "   [0.8627451  0.654902   0.6       ]]\n",
      "\n",
      "  [[0.5568628  0.5568628  0.5254902 ]\n",
      "   [0.58431375 0.5803922  0.5647059 ]\n",
      "   [0.60784316 0.6039216  0.59607846]\n",
      "   ...\n",
      "   [0.8509804  0.6156863  0.57254905]\n",
      "   [0.8627451  0.63529414 0.5882353 ]\n",
      "   [0.8627451  0.654902   0.6       ]]]\n",
      "\n",
      "\n",
      " [[[0.78039217 0.7058824  0.6901961 ]\n",
      "   [0.8        0.72156864 0.7294118 ]\n",
      "   [0.8235294  0.74509805 0.7529412 ]\n",
      "   ...\n",
      "   [0.4862745  0.5254902  0.49019608]\n",
      "   [0.4745098  0.5137255  0.48235294]\n",
      "   [0.47058824 0.50980395 0.47843137]]\n",
      "\n",
      "  [[0.78431374 0.70980394 0.69411767]\n",
      "   [0.83137256 0.7529412  0.7607843 ]\n",
      "   [0.8117647  0.73333335 0.7411765 ]\n",
      "   ...\n",
      "   [0.4862745  0.5254902  0.49019608]\n",
      "   [0.4745098  0.5137255  0.48235294]\n",
      "   [0.45882353 0.49803922 0.46666667]]\n",
      "\n",
      "  [[0.80784315 0.73333335 0.7176471 ]\n",
      "   [0.8117647  0.73333335 0.7411765 ]\n",
      "   [0.80784315 0.7294118  0.7372549 ]\n",
      "   ...\n",
      "   [0.50980395 0.54901963 0.5137255 ]\n",
      "   [0.48235294 0.52156866 0.49019608]\n",
      "   [0.46666667 0.5058824  0.4745098 ]]\n",
      "\n",
      "  ...\n",
      "\n",
      "  [[0.64705884 0.74509805 0.7607843 ]\n",
      "   [0.6627451  0.7372549  0.7607843 ]\n",
      "   [0.6431373  0.7176471  0.73333335]\n",
      "   ...\n",
      "   [0.5372549  0.5647059  0.53333336]\n",
      "   [0.5294118  0.5686275  0.5372549 ]\n",
      "   [0.5294118  0.5686275  0.5372549 ]]\n",
      "\n",
      "  [[0.64705884 0.74509805 0.7607843 ]\n",
      "   [0.6627451  0.7372549  0.7607843 ]\n",
      "   [0.64705884 0.72156864 0.7372549 ]\n",
      "   ...\n",
      "   [0.5254902  0.5529412  0.52156866]\n",
      "   [0.5254902  0.5647059  0.53333336]\n",
      "   [0.5294118  0.5686275  0.5372549 ]]\n",
      "\n",
      "  [[0.6509804  0.7490196  0.7647059 ]\n",
      "   [0.6627451  0.7372549  0.7607843 ]\n",
      "   [0.64705884 0.72156864 0.7372549 ]\n",
      "   ...\n",
      "   [0.53333336 0.56078434 0.5294118 ]\n",
      "   [0.5254902  0.5647059  0.53333336]\n",
      "   [0.52156866 0.56078434 0.5294118 ]]]]\n"
     ]
    }
   ],
   "source": [
    "#Rescale dev dataset\n",
    "X/=255.0\n",
    "print(X)"
   ]
  },
  {
   "cell_type": "code",
   "execution_count": 20,
   "metadata": {
    "colab": {
     "base_uri": "https://localhost:8080/",
     "height": 50
    },
    "colab_type": "code",
    "executionInfo": {
     "elapsed": 8825,
     "status": "ok",
     "timestamp": 1586092361778,
     "user": {
      "displayName": "廖柄淦",
      "photoUrl": "https://lh3.googleusercontent.com/a-/AOh14GjZP21bMdjnp7AGGchu-PjXO1U_qXi0fI574q6H=s64",
      "userId": "05650689681420335783"
     },
     "user_tz": -480
    },
    "id": "LNy33JEzPXbO",
    "outputId": "a32d9c41-1681-4592-cc9c-735705f1de6a"
   },
   "outputs": [
    {
     "name": "stdout",
     "output_type": "stream",
     "text": [
      "800/800 [==============================] - 8s 10ms/step\n",
      "Loss = 0.46640, Acc = 0.78000\n"
     ]
    }
   ],
   "source": [
    "#Evaluate model\n",
    "loss, acc = model.evaluate(X, Y)\n",
    "print('Loss = %.5f, Acc = %.5f' % (loss, acc))"
   ]
  },
  {
   "cell_type": "code",
   "execution_count": 21,
   "metadata": {
    "colab": {
     "base_uri": "https://localhost:8080/",
     "height": 403
    },
    "colab_type": "code",
    "executionInfo": {
     "elapsed": 8992,
     "status": "ok",
     "timestamp": 1586092391954,
     "user": {
      "displayName": "廖柄淦",
      "photoUrl": "https://lh3.googleusercontent.com/a-/AOh14GjZP21bMdjnp7AGGchu-PjXO1U_qXi0fI574q6H=s64",
      "userId": "05650689681420335783"
     },
     "user_tz": -480
    },
    "id": "ms2h3UHePyVj",
    "outputId": "b8dd0009-e759-4620-e1e4-6931ab1b2fd0"
   },
   "outputs": [
    {
     "name": "stdout",
     "output_type": "stream",
     "text": [
      "800\n",
      "[0 0 0 1 2 0 1 0 0 0 0 1 1 0 1 0 0 0 0 0 0 0 2 0 0 0 2 1 0 1 0 0 1 2 0 0 0\n",
      " 0 0 0 0 0 0 0 1 1 1 0 2 0 0 0 1 2 0 0 1 0 2 0 0 0 2 0 0 2 2 0 2 1 2 1 0 2\n",
      " 2 0 0 0 2 0 0 2 0 0 2 1 2 1 0 1 2 0 1 0 1 2 1 0 2 0 0 1 0 2 0 1 1 0 0 0 2\n",
      " 0 1 0 0 0 2 0 0 0 1 0 2 0 2 0 0 0 2 1 0 0 0 1 0 1 0 0 0 2 0 0 2 0 0 0 1 0\n",
      " 0 1 1 0 0 0 1 0 0 0 2 1 2 0 0 0 2 2 0 2 0 2 1 1 2 2 2 1 0 1 0 0 2 1 1 2 0\n",
      " 2 0 1 2 1 0 2 0 0 2 0 0 2 2 0 2 1 0 0 0 0 0 0 2 1 2 0 0 0 0 2 0 1 1 1 0 1\n",
      " 0 1 0 1 1 0 1 1 0 0 1 1 0 0 2 0 1 0 1 2 1 0 0 0 1 1 1 1 1 0 2 2 2 0 1 1 2\n",
      " 2 2 0 1 0 2 1 1 0 0 1 2 0 0 0 0 1 2 0 1 0 0 0 0 2 1 0 1 2 1 0 2 0 2 2 0 2\n",
      " 1 1 1 2 2 0 2 0 2 2 1 2 2 2 2 0 2 1 0 0 0 1 1 0 0 1 1 1 2 0 1 1 0 2 1 0 2\n",
      " 0 2 0 1 1 0 0 1 1 0 0 0 0 0 0 0 1 1 0 1 0 1 0 0 2 1 0 0 0 0 0 1 1 0 1 0 0\n",
      " 2 2 0 0 0 1 0 2 0 2 0 0 0 1 1 2 1 2 0 2 2 2 0 2 2 0 0 2 0 0 0 0 2 0 0 2 0\n",
      " 0 2 0 0 2 1 0 0 1 0 2 1 0 0 0 0 0 0 2 0 1 0 0 1 0 0 0 1 1 0 1 0 0 1 0 1 0\n",
      " 0 0 0 0 0 1 2 2 1 2 0 0 0 1 0 1 0 0 2 0 0 0 1 0 0 0 1 2 2 1 0 1 2 0 1 1 0\n",
      " 0 0 0 2 0 0 1 2 2 2 1 0 0 0 0 0 0 0 0 0 0 0 1 0 0 0 0 0 0 0 2 0 0 0 0 2 1\n",
      " 0 1 1 0 1 2 1 1 0 2 2 1 0 1 1 2 2 0 1 0 1 0 0 0 1 1 0 2 0 1 0 2 1 0 1 0 2\n",
      " 2 0 0 0 0 2 1 0 0 0 1 0 0 1 0 1 1 0 0 2 0 0 1 0 1 2 1 1 0 1 0 0 2 1 2 0 0\n",
      " 0 0 0 1 2 0 0 1 2 2 0 2 1 0 0 2 2 1 0 1 0 0 2 1 1 0 0 0 0 0 0 2 0 0 0 0 0\n",
      " 0 2 1 0 0 1 1 2 0 0 0 0 1 0 1 0 0 0 1 0 2 2 2 2 2 1 0 1 2 0 0 0 0 2 1 1 2\n",
      " 0 0 2 0 2 2 1 0 0 0 2 0 0 0 1 2 2 1 0 0 0 0 1 1 0 2 0 0 1 2 0 2 1 0 0 0 0\n",
      " 0 0 2 1 0 0 1 0 0 0 1 0 0 2 0 2 0 0 1 1 2 2 0 0 1 0 1 2 0 0 2 1 2 1 1 2 0\n",
      " 1 1 2 1 0 0 0 0 0 0 0 1 0 0 0 1 1 0 1 0 0 2 0 0 1 0 1 0 0 1 0 0 1 2 0 0 0\n",
      " 1 2 2 1 0 2 1 1 0 2 2 1 1 1 2 0 1 0 1 0 2 0 2]\n"
     ]
    }
   ],
   "source": [
    "#Predict result\n",
    "y_predict = model.predict_classes(X)\n",
    "print(len(y_predict))\n",
    "print(y_predict)"
   ]
  },
  {
   "cell_type": "code",
   "execution_count": 22,
   "metadata": {
    "colab": {
     "base_uri": "https://localhost:8080/",
     "height": 386
    },
    "colab_type": "code",
    "executionInfo": {
     "elapsed": 692,
     "status": "ok",
     "timestamp": 1586092394895,
     "user": {
      "displayName": "廖柄淦",
      "photoUrl": "https://lh3.googleusercontent.com/a-/AOh14GjZP21bMdjnp7AGGchu-PjXO1U_qXi0fI574q6H=s64",
      "userId": "05650689681420335783"
     },
     "user_tz": -480
    },
    "id": "FMJFyYdePyXm",
    "outputId": "f144924f-6aba-49a7-e622-a4614837dd12"
   },
   "outputs": [
    {
     "name": "stdout",
     "output_type": "stream",
     "text": [
      "[1 0 1 1 2 1 2 0 1 0 0 1 2 1 2 1 1 0 0 1 0 0 2 0 1 0 2 2 1 1 1 0 2 2 0 0 0\n",
      " 0 0 0 1 2 0 2 2 2 1 0 2 0 1 1 1 2 2 0 1 0 2 0 1 1 2 0 1 2 2 0 2 1 2 1 1 2\n",
      " 2 2 1 0 2 0 0 2 1 1 2 2 2 2 0 1 2 2 1 2 2 2 1 0 2 2 2 1 1 2 1 1 1 1 1 2 2\n",
      " 0 1 0 0 2 2 0 2 0 1 0 2 1 2 1 0 1 2 1 0 0 0 1 0 2 1 1 0 2 0 1 2 0 0 0 2 1\n",
      " 1 1 1 1 1 1 1 1 1 0 2 1 2 1 0 1 2 2 1 2 0 2 1 2 2 2 2 1 0 0 0 1 2 2 0 2 1\n",
      " 2 0 0 2 1 2 2 1 1 2 1 0 2 1 0 2 2 1 0 1 2 0 1 2 2 2 1 1 2 0 2 1 2 1 1 0 1\n",
      " 1 1 1 1 0 0 1 1 0 2 1 1 0 1 2 0 2 0 1 2 2 0 1 0 2 2 2 1 0 1 2 2 2 1 1 1 2\n",
      " 2 2 1 1 0 2 1 2 0 1 2 2 1 1 1 1 2 2 0 2 0 1 0 0 1 1 1 1 2 1 2 2 0 2 2 1 1\n",
      " 0 1 1 2 2 0 2 0 2 2 1 2 1 2 2 0 2 1 0 2 0 1 1 0 0 1 1 2 2 1 1 1 0 2 1 1 2\n",
      " 0 2 1 1 2 1 1 1 2 0 2 0 0 0 0 0 1 2 1 2 0 1 0 1 2 1 0 0 1 0 0 2 1 1 1 1 1\n",
      " 2 2 1 2 0 2 1 2 0 2 0 1 0 1 1 2 1 1 0 2 2 2 1 2 1 0 1 1 1 1 0 0 2 1 0 2 1\n",
      " 1 2 0 0 2 1 0 1 1 1 2 2 1 1 0 0 2 0 2 1 1 1 2 2 0 2 0 1 2 2 1 1 0 1 0 1 0\n",
      " 0 1 0 1 1 1 2 2 2 2 0 0 0 1 0 2 2 1 2 2 0 1 1 0 1 0 1 2 2 1 0 1 2 1 1 1 0\n",
      " 0 0 0 1 2 1 1 2 2 1 2 1 1 0 0 0 0 0 0 0 0 2 2 0 0 0 0 0 1 1 2 1 0 0 2 2 1\n",
      " 0 1 0 1 2 2 2 1 1 2 2 1 2 1 1 1 2 0 1 0 2 0 0 0 2 1 0 2 0 1 0 2 1 0 2 0 2\n",
      " 1 0 0 0 0 2 1 1 1 0 1 0 0 1 0 1 1 0 1 2 0 1 1 1 1 2 1 1 1 1 0 1 2 2 2 0 0\n",
      " 1 1 0 1 2 2 0 1 2 2 1 2 1 0 0 2 2 1 2 2 2 2 2 0 2 1 1 1 1 0 0 2 0 0 0 0 0\n",
      " 0 2 1 1 0 1 2 2 0 0 0 2 1 1 0 0 0 1 0 1 2 2 2 1 2 1 1 2 2 1 1 2 1 2 1 2 2\n",
      " 0 0 2 0 2 2 2 1 0 0 2 0 0 0 1 2 2 1 1 0 0 1 2 1 0 2 2 0 2 1 0 2 2 0 0 1 0\n",
      " 0 2 2 1 1 0 2 0 0 0 1 1 0 2 0 2 0 1 1 1 2 2 0 2 1 0 2 2 1 0 2 1 2 1 2 2 0\n",
      " 1 1 2 2 1 1 0 0 1 0 1 2 0 0 0 1 1 0 1 2 0 1 0 0 2 0 1 0 0 1 1 1 2 2 0 0 1\n",
      " 2 2 2 1 0 2 2 0 0 2 2 1 2 2 1 1 1 0 1 0 2 0 2]\n"
     ]
    }
   ],
   "source": [
    "#dev image label\n",
    "Y_cat = Y.argmax(axis=-1)\n",
    "print(Y_cat)"
   ]
  },
  {
   "cell_type": "markdown",
   "metadata": {
    "colab_type": "text",
    "id": "ghFtEC2kP_UH"
   },
   "source": [
    "# **Confusion Matrix**"
   ]
  },
  {
   "cell_type": "code",
   "execution_count": 23,
   "metadata": {
    "colab": {
     "base_uri": "https://localhost:8080/",
     "height": 166
    },
    "colab_type": "code",
    "executionInfo": {
     "elapsed": 718,
     "status": "ok",
     "timestamp": 1586092398257,
     "user": {
      "displayName": "廖柄淦",
      "photoUrl": "https://lh3.googleusercontent.com/a-/AOh14GjZP21bMdjnp7AGGchu-PjXO1U_qXi0fI574q6H=s64",
      "userId": "05650689681420335783"
     },
     "user_tz": -480
    },
    "id": "FbqGItjVP9IX",
    "outputId": "5d20dc44-c507-40bf-825c-083ea714f652"
   },
   "outputs": [
    {
     "data": {
      "text/html": [
       "<div>\n",
       "<style scoped>\n",
       "    .dataframe tbody tr th:only-of-type {\n",
       "        vertical-align: middle;\n",
       "    }\n",
       "\n",
       "    .dataframe tbody tr th {\n",
       "        vertical-align: top;\n",
       "    }\n",
       "\n",
       "    .dataframe thead th {\n",
       "        text-align: right;\n",
       "    }\n",
       "</style>\n",
       "<table border=\"1\" class=\"dataframe\">\n",
       "  <thead>\n",
       "    <tr style=\"text-align: right;\">\n",
       "      <th>prediction</th>\n",
       "      <th>0</th>\n",
       "      <th>1</th>\n",
       "      <th>2</th>\n",
       "    </tr>\n",
       "    <tr>\n",
       "      <th>labels</th>\n",
       "      <th></th>\n",
       "      <th></th>\n",
       "      <th></th>\n",
       "    </tr>\n",
       "  </thead>\n",
       "  <tbody>\n",
       "    <tr>\n",
       "      <th>0</th>\n",
       "      <td>232</td>\n",
       "      <td>11</td>\n",
       "      <td>0</td>\n",
       "    </tr>\n",
       "    <tr>\n",
       "      <th>1</th>\n",
       "      <td>148</td>\n",
       "      <td>130</td>\n",
       "      <td>15</td>\n",
       "    </tr>\n",
       "    <tr>\n",
       "      <th>2</th>\n",
       "      <td>39</td>\n",
       "      <td>66</td>\n",
       "      <td>159</td>\n",
       "    </tr>\n",
       "  </tbody>\n",
       "</table>\n",
       "</div>"
      ],
      "text/plain": [
       "prediction    0    1    2\n",
       "labels                   \n",
       "0           232   11    0\n",
       "1           148  130   15\n",
       "2            39   66  159"
      ]
     },
     "execution_count": 23,
     "metadata": {
      "tags": []
     },
     "output_type": "execute_result"
    }
   ],
   "source": [
    "#Confusion matrix by pandas\n",
    "pd.crosstab(Y_cat, y_predict, rownames=['labels'], colnames=['prediction'])"
   ]
  },
  {
   "cell_type": "code",
   "execution_count": 24,
   "metadata": {
    "colab": {
     "base_uri": "https://localhost:8080/",
     "height": 67
    },
    "colab_type": "code",
    "executionInfo": {
     "elapsed": 629,
     "status": "ok",
     "timestamp": 1586092401664,
     "user": {
      "displayName": "廖柄淦",
      "photoUrl": "https://lh3.googleusercontent.com/a-/AOh14GjZP21bMdjnp7AGGchu-PjXO1U_qXi0fI574q6H=s64",
      "userId": "05650689681420335783"
     },
     "user_tz": -480
    },
    "id": "omYBIJCJP9PV",
    "outputId": "40a72f38-9879-4919-c7e3-71893de4f2af"
   },
   "outputs": [
    {
     "name": "stdout",
     "output_type": "stream",
     "text": [
      "[[232  11   0]\n",
      " [148 130  15]\n",
      " [ 39  66 159]]\n"
     ]
    }
   ],
   "source": [
    "#Confusion matrix by sklearn\n",
    "c = confusion_matrix(Y_cat, y_predict)\n",
    "print(c)"
   ]
  },
  {
   "cell_type": "code",
   "execution_count": 25,
   "metadata": {
    "colab": {
     "base_uri": "https://localhost:8080/",
     "height": 185
    },
    "colab_type": "code",
    "executionInfo": {
     "elapsed": 822,
     "status": "ok",
     "timestamp": 1586092404817,
     "user": {
      "displayName": "廖柄淦",
      "photoUrl": "https://lh3.googleusercontent.com/a-/AOh14GjZP21bMdjnp7AGGchu-PjXO1U_qXi0fI574q6H=s64",
      "userId": "05650689681420335783"
     },
     "user_tz": -480
    },
    "id": "OOkY6JyVP9Wu",
    "outputId": "059b3a90-ce29-45eb-e818-950bc1ca93de"
   },
   "outputs": [
    {
     "name": "stdout",
     "output_type": "stream",
     "text": [
      "              precision    recall  f1-score   support\n",
      "\n",
      "           A       0.55      0.95      0.70       243\n",
      "           B       0.63      0.44      0.52       293\n",
      "           C       0.91      0.60      0.73       264\n",
      "\n",
      "    accuracy                           0.65       800\n",
      "   macro avg       0.70      0.67      0.65       800\n",
      "weighted avg       0.70      0.65      0.64       800\n",
      "\n"
     ]
    }
   ],
   "source": [
    "#Precison, recall and f1-score\n",
    "print(classification_report(Y_cat, y_predict, target_names=['A', 'B', 'C']))"
   ]
  }
 ],
 "metadata": {
  "accelerator": "GPU",
  "colab": {
   "authorship_tag": "ABX9TyPtWVrXDx26O+8qt58BF6FD",
   "collapsed_sections": [],
   "name": "CNN_ResNeXt-50.ipynb",
   "provenance": []
  },
  "kernelspec": {
   "display_name": "Python 3",
   "language": "python",
   "name": "python3"
  },
  "language_info": {
   "codemirror_mode": {
    "name": "ipython",
    "version": 3
   },
   "file_extension": ".py",
   "mimetype": "text/x-python",
   "name": "python",
   "nbconvert_exporter": "python",
   "pygments_lexer": "ipython3",
   "version": "3.6.9"
  }
 },
 "nbformat": 4,
 "nbformat_minor": 1
}
